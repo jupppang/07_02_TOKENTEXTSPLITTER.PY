{
  "nbformat": 4,
  "nbformat_minor": 0,
  "metadata": {
    "colab": {
      "provenance": [],
      "authorship_tag": "ABX9TyNRvfRaqpei/3FVouIRA7ih",
      "include_colab_link": true
    },
    "kernelspec": {
      "name": "python3",
      "display_name": "Python 3"
    },
    "language_info": {
      "name": "python"
    }
  },
  "cells": [
    {
      "cell_type": "markdown",
      "metadata": {
        "id": "view-in-github",
        "colab_type": "text"
      },
      "source": [
        "<a href=\"https://colab.research.google.com/github/jupppang/edu_jeonju_test/blob/main/score.ipynb\" target=\"_parent\"><img src=\"https://colab.research.google.com/assets/colab-badge.svg\" alt=\"Open In Colab\"/></a>"
      ]
    },
    {
      "cell_type": "code",
      "execution_count": 1,
      "metadata": {
        "id": "AvoHQip_kk0i"
      },
      "outputs": [],
      "source": [
        "!pip install -qU PyPDF\n",
        "!pip install -qU langchain-community"
      ]
    },
    {
      "cell_type": "markdown",
      "source": [
        "### 1.PYPDF"
      ],
      "metadata": {
        "id": "HSuzLxKwlIOF"
      }
    },
    {
      "cell_type": "code",
      "source": [
        "from langchain.document_loaders import PyPDFLoader\n",
        "\n",
        "file_path = \"/content/data/(제2024-572호)_초광역권_선도기업_선정_및_지원계획.pdf\"\n",
        "\n",
        "loader = PyPDFLoader(file_path)\n",
        "\n",
        "docs = loader.load()"
      ],
      "metadata": {
        "id": "cWQdzB26koS5"
      },
      "execution_count": 2,
      "outputs": []
    },
    {
      "cell_type": "code",
      "source": [
        "docs[0]"
      ],
      "metadata": {
        "colab": {
          "base_uri": "https://localhost:8080/"
        },
        "id": "vDic-C6DkplF",
        "outputId": "e278eb2e-7381-4cab-919b-f40eca5da9d9"
      },
      "execution_count": 3,
      "outputs": [
        {
          "output_type": "execute_result",
          "data": {
            "text/plain": [
              "Document(metadata={'source': '/content/data/(제2024-572호)_초광역권_선도기업_선정_및_지원계획.pdf', 'page': 0}, page_content='- 1 -\\n중소벤처기업부공고제2024-572호초광역권 선도기업 선정 및 지원계획2024년도 「초광역권 선도기업」선정 및 지원계획을 다음과 같이 공고하오니,동 사업에 참여하고자 하는 지역 중소기업의 많은 참여를 바랍니다. 2024년 11월 15일중소벤처기업부장관 1. 사업개요□ 사업목적 :시·도간 공급망 연결 및 지역주력산업 생태계를 주도할 수 있는 지역 중소기업 발굴 및 육성□ 사업내용 : 지역주력산업을 영위하는 중소기업 중 초광역권 선도기업을선정하여 전담PM매칭 및 기술사업화 관련 바우처 지원<초광역권 선도기업 선정 및 지원계획 >구분 주요내용지원대상초광역권 선도기업유효기간 및 지원기간선정일로부터 2년(’24년 선정 → ’25년~‘26년) / 최대2년 지원지원규모 및 한도기업당 최대 2억원(1억원/연간)\\n지원내용· (정책금융) 초광역권 선도기업 전용 기술보증 프로그램 지원 및 정책금융 연계지원 프로그램· (기술사업화 패키지) R&D기획, 제품고급화, 디자인·브랜드 개선, 마케팅 등 ’초광역 혁신성장 바우처‘ 지원· (네트워킹) 포럼 및 세미나, 기술교류회, 임직원 교육 및 명사특강 등 전용 네트워킹 프로그램 지원· (전담PM 매칭) 초광역권 선도기업별 PM 1인 매칭, 기술애로 해소, 정부지원시책, 기업경영 자문 등 방문 컨설팅 지원')"
            ]
          },
          "metadata": {},
          "execution_count": 3
        }
      ]
    },
    {
      "cell_type": "code",
      "source": [
        "print(docs[2].page_content[:1000])"
      ],
      "metadata": {
        "colab": {
          "base_uri": "https://localhost:8080/"
        },
        "id": "5VGiOCRJksd5",
        "outputId": "50b49716-c6fe-499c-ae11-df261b9257ac"
      },
      "execution_count": 4,
      "outputs": [
        {
          "output_type": "stream",
          "name": "stdout",
          "text": [
            "- 3 -\n",
            " 3. 신청대상 및 신청요건□ 신청대상 : 지역주력산업 영위 지역 중소기업   * 「중소기업기본법」 제2조에 의한 중소기업에 한하며, 중견·대기업은 참여 불가   * 부가가치세법 및 동법 시행령 제8조에 따라 공고일 현재 해당 주력산업 지역에 본사 또는 주사업장을 보유하고 있는 중소기업□ 신청요건◦지역 주력산업분야 중소기업에 해당하며,초광역권 기업간 협업또는 협력을 실적을 보유한 기업< 신청자격 요건 >구분 상세내용\n",
            "기본요건(5개 모두 충족)\n",
            " ❶ 지역 : 해당 지역에 본사 또는 주사업장 소재(수도권 제외) ❷ 업종 : 지역주력산업 업종 해당 기업 ❸ 고용 : 상시근로자 10인 이상 ❹ 형태 : 중소기업기본법에 의한 중소기업(법인·단체 포함) ❺ 지역별 자격요건 : 지역별 스타기업 평균값을 기준으로 필수지표는 반드시 충족해야 하며, 공통지표 2개 충족 혹은 공통 및 선택지표 각 1개 이상 충족해야 함필수지표최근 3년간 평균 매출액이 지역별 스타기업 평균 이상공통지표① 최근 3년 평균 고용증가율② 최근 3년 평균 매출액 대비 수출비중③ 최근 5년 평균 매출액 증가율④ 최근 3년 평균 매출액 대비 R&D 투자비중선택지표① 신규고용인원 전년도 지역청년인재 비율② 기업부설연구소 지역내 보유③ 최근 3년 평균특허 출원 및 등록수최소요건(1개 이상 충족) ❶ 권역외 기업과 공동 기술개발, 생산, 판매 등을 위한 MOU체결 실적 보유 ❷ 권역외 기업과 거래관계(매입‧매출) 실적 보유  * 관련 법률 등에 따른 대기업 관계회사, 기타 부도, 휴폐업, 국세(지방세)체납, 채무불이행, 파산·회생기업, 자본전액잠식, 부채 1,000% 이상 등 신용상태 불량기업, 국가연구개발사업 참여제한 기업 등 부실기업 제외 ** 공고일 기준, 최근 5년 이내 MOU체결 실적 보유기업 혹은 최근 3년 이내 거래관계 실적 보유기업\n"
          ]
        }
      ]
    },
    {
      "cell_type": "markdown",
      "source": [
        "### 2.PYMUPDF"
      ],
      "metadata": {
        "id": "ETrHKA5Pla31"
      }
    },
    {
      "cell_type": "code",
      "source": [
        "!pip install pymupdf"
      ],
      "metadata": {
        "colab": {
          "base_uri": "https://localhost:8080/"
        },
        "id": "M3Yg4lB8l_Q9",
        "outputId": "8a2af6ca-a8e8-47e3-cfbb-467d83e05d46"
      },
      "execution_count": 5,
      "outputs": [
        {
          "output_type": "stream",
          "name": "stdout",
          "text": [
            "Requirement already satisfied: pymupdf in /usr/local/lib/python3.10/dist-packages (1.25.1)\n"
          ]
        }
      ]
    },
    {
      "cell_type": "code",
      "source": [
        "from langchain.document_loaders import PyMuPDFLoader\n",
        "\n",
        "file_path = \"/content/data/(제2024-572호)_초광역권_선도기업_선정_및_지원계획.pdf\"\n",
        "\n",
        "loader = PyMuPDFLoader(file_path)\n",
        "\n",
        "docs2 = loader.load()"
      ],
      "metadata": {
        "id": "mpAjC-ZXldZM"
      },
      "execution_count": 6,
      "outputs": []
    },
    {
      "cell_type": "code",
      "source": [
        "docs[0]"
      ],
      "metadata": {
        "colab": {
          "base_uri": "https://localhost:8080/"
        },
        "id": "NVYHHY3Ul8Oq",
        "outputId": "e0f44b66-3566-4c02-ac7d-2f0f0b5f3d8e"
      },
      "execution_count": 7,
      "outputs": [
        {
          "output_type": "execute_result",
          "data": {
            "text/plain": [
              "Document(metadata={'source': '/content/data/(제2024-572호)_초광역권_선도기업_선정_및_지원계획.pdf', 'page': 0}, page_content='- 1 -\\n중소벤처기업부공고제2024-572호초광역권 선도기업 선정 및 지원계획2024년도 「초광역권 선도기업」선정 및 지원계획을 다음과 같이 공고하오니,동 사업에 참여하고자 하는 지역 중소기업의 많은 참여를 바랍니다. 2024년 11월 15일중소벤처기업부장관 1. 사업개요□ 사업목적 :시·도간 공급망 연결 및 지역주력산업 생태계를 주도할 수 있는 지역 중소기업 발굴 및 육성□ 사업내용 : 지역주력산업을 영위하는 중소기업 중 초광역권 선도기업을선정하여 전담PM매칭 및 기술사업화 관련 바우처 지원<초광역권 선도기업 선정 및 지원계획 >구분 주요내용지원대상초광역권 선도기업유효기간 및 지원기간선정일로부터 2년(’24년 선정 → ’25년~‘26년) / 최대2년 지원지원규모 및 한도기업당 최대 2억원(1억원/연간)\\n지원내용· (정책금융) 초광역권 선도기업 전용 기술보증 프로그램 지원 및 정책금융 연계지원 프로그램· (기술사업화 패키지) R&D기획, 제품고급화, 디자인·브랜드 개선, 마케팅 등 ’초광역 혁신성장 바우처‘ 지원· (네트워킹) 포럼 및 세미나, 기술교류회, 임직원 교육 및 명사특강 등 전용 네트워킹 프로그램 지원· (전담PM 매칭) 초광역권 선도기업별 PM 1인 매칭, 기술애로 해소, 정부지원시책, 기업경영 자문 등 방문 컨설팅 지원')"
            ]
          },
          "metadata": {},
          "execution_count": 7
        }
      ]
    },
    {
      "cell_type": "code",
      "source": [
        "print(docs[0].page_content[:500])"
      ],
      "metadata": {
        "colab": {
          "base_uri": "https://localhost:8080/"
        },
        "id": "OR85YQtXl7QD",
        "outputId": "51b95272-7450-4168-a83a-7b38e76f3724"
      },
      "execution_count": 8,
      "outputs": [
        {
          "output_type": "stream",
          "name": "stdout",
          "text": [
            "- 1 -\n",
            "중소벤처기업부공고제2024-572호초광역권 선도기업 선정 및 지원계획2024년도 「초광역권 선도기업」선정 및 지원계획을 다음과 같이 공고하오니,동 사업에 참여하고자 하는 지역 중소기업의 많은 참여를 바랍니다. 2024년 11월 15일중소벤처기업부장관 1. 사업개요□ 사업목적 :시·도간 공급망 연결 및 지역주력산업 생태계를 주도할 수 있는 지역 중소기업 발굴 및 육성□ 사업내용 : 지역주력산업을 영위하는 중소기업 중 초광역권 선도기업을선정하여 전담PM매칭 및 기술사업화 관련 바우처 지원<초광역권 선도기업 선정 및 지원계획 >구분 주요내용지원대상초광역권 선도기업유효기간 및 지원기간선정일로부터 2년(’24년 선정 → ’25년~‘26년) / 최대2년 지원지원규모 및 한도기업당 최대 2억원(1억원/연간)\n",
            "지원내용· (정책금융) 초광역권 선도기업 전용 기술보증 프로그램 지원 및 정책금융 연계지원 프로그램· (기술사업화 패키지) R&D기획, 제품고급화, 디자인·브랜드 개선, 마케팅 등\n"
          ]
        }
      ]
    },
    {
      "cell_type": "markdown",
      "source": [
        "### 3. PYPDFIUM2"
      ],
      "metadata": {
        "id": "HAxj1jC1mzvf"
      }
    },
    {
      "cell_type": "code",
      "source": [
        "!pip install -qU pypdfium2"
      ],
      "metadata": {
        "id": "3txZlUX8nDRX"
      },
      "execution_count": 9,
      "outputs": []
    },
    {
      "cell_type": "code",
      "source": [
        "from langchain_community.document_loaders import PyPDFium2Loader\n",
        "\n",
        "file_path = \"/content/data/(제2024-572호)_초광역권_선도기업_선정_및_지원계획.pdf\"\n",
        "\n",
        "loader = PyPDFium2Loader(file_path)\n",
        "\n",
        "docs = loader.load()\n"
      ],
      "metadata": {
        "colab": {
          "base_uri": "https://localhost:8080/"
        },
        "id": "VxKEJgslmzT9",
        "outputId": "4b4ed85e-1691-43e9-a90f-b63dcec14f4c"
      },
      "execution_count": 10,
      "outputs": [
        {
          "output_type": "stream",
          "name": "stderr",
          "text": [
            "/usr/local/lib/python3.10/dist-packages/pypdfium2/_helpers/textpage.py:80: UserWarning: get_text_range() call with default params will be implicitly redirected to get_text_bounded()\n",
            "  warnings.warn(\"get_text_range() call with default params will be implicitly redirected to get_text_bounded()\")\n"
          ]
        }
      ]
    },
    {
      "cell_type": "code",
      "source": [
        "docs[0]"
      ],
      "metadata": {
        "colab": {
          "base_uri": "https://localhost:8080/"
        },
        "id": "8rMLMFUnoLAO",
        "outputId": "5058a423-d985-4bfe-8963-a5304d9169b4"
      },
      "execution_count": 11,
      "outputs": [
        {
          "output_type": "execute_result",
          "data": {
            "text/plain": [
              "Document(metadata={'source': '/content/data/(제2024-572호)_초광역권_선도기업_선정_및_지원계획.pdf', 'page': 0}, page_content='- 1 -\\r\\n중소벤처기업부 공고 제2024-572호\\r\\n초광역권 선도기업 선정 및 지원계획\\r\\n2024년도 「초광역권 선도기업」선정 및 지원계획을 다음과 같이 공고\\r\\n하오니, 동 사업에 참여하고자 하는 지역 중소기업의 많은 참여를 바랍\\r\\n니다.\\r\\n2024년 11월 15일\\r\\n중 소 벤 처 기 업 부 장 관\\r\\n1. 사업개요\\r\\n□ 사업목적 : 시·도간 공급망 연결 및 지역주력산업 생태계를 주도할 \\r\\n수 있는 지역 중소기업 발굴 및 육성\\r\\n□ 사업내용 : 지역주력산업을 영위하는 중소기업 중 초광역권 선도기업을\\r\\n선정하여 전담PM 매칭 및 기술사업화 관련 바우처 지원\\r\\n< 초광역권 선도기업 선정 및 지원계획 >\\r\\n구분 주요내용\\r\\n지원대상 초광역권 선도기업\\r\\n유효기간 및 지원기간 선정일로부터 2년(’24년 선정 → ’25년~‘26년) / 최대2년 지원\\r\\n지원규모 및 한도 기업당 최대 2억원(1억원/연간)\\r\\n지원내용\\r\\n· (정책금융) 초광역권 선도기업 전용 기술보증 프로그램 지원 및 \\r\\n정책금융 연계지원 프로그램\\r\\n· (기술사업화 패키지) R&D기획, 제품고급화, 디자인·브랜드 개선, 마케팅 등 ’초광역 혁신성장 바우처‘ 지원\\r\\n· (네트워킹) 포럼 및 세미나, 기술교류회, 임직원 교육 및 명사특강 등\\r\\n전용 네트워킹 프로그램 지원\\r\\n· (전담PM 매칭) 초광역권 선도기업별 PM 1인 매칭, 기술애로 해소, 정부지원시책, 기업경영 자문 등 방문 컨설팅 지원\\n')"
            ]
          },
          "metadata": {},
          "execution_count": 11
        }
      ]
    },
    {
      "cell_type": "code",
      "source": [
        "print(docs[0].page_content[:500])"
      ],
      "metadata": {
        "colab": {
          "base_uri": "https://localhost:8080/"
        },
        "id": "u8kvruiaoPRL",
        "outputId": "acf674c6-1bd3-45c0-dc94-dac11a413679"
      },
      "execution_count": 12,
      "outputs": [
        {
          "output_type": "stream",
          "name": "stdout",
          "text": [
            "- 1 -\r\n",
            "중소벤처기업부 공고 제2024-572호\r\n",
            "초광역권 선도기업 선정 및 지원계획\r\n",
            "2024년도 「초광역권 선도기업」선정 및 지원계획을 다음과 같이 공고\r\n",
            "하오니, 동 사업에 참여하고자 하는 지역 중소기업의 많은 참여를 바랍\r\n",
            "니다.\r\n",
            "2024년 11월 15일\r\n",
            "중 소 벤 처 기 업 부 장 관\r\n",
            "1. 사업개요\r\n",
            "□ 사업목적 : 시·도간 공급망 연결 및 지역주력산업 생태계를 주도할 \r\n",
            "수 있는 지역 중소기업 발굴 및 육성\r\n",
            "□ 사업내용 : 지역주력산업을 영위하는 중소기업 중 초광역권 선도기업을\r\n",
            "선정하여 전담PM 매칭 및 기술사업화 관련 바우처 지원\r\n",
            "< 초광역권 선도기업 선정 및 지원계획 >\r\n",
            "구분 주요내용\r\n",
            "지원대상 초광역권 선도기업\r\n",
            "유효기간 및 지원기간 선정일로부터 2년(’24년 선정 → ’25년~‘26년) / 최대2년 지원\r\n",
            "지원규모 및 한도 기업당 최대 2억원(1억원/연간)\r\n",
            "지원내용\r\n",
            "· (정책금융) 초광역권 선도기업 전용 기술보증 프로그램 지원 및 \r\n",
            "정책금융 연\n"
          ]
        }
      ]
    },
    {
      "cell_type": "markdown",
      "source": [
        "### 4. PDFMINER"
      ],
      "metadata": {
        "id": "YveYtX4NpvQp"
      }
    },
    {
      "cell_type": "code",
      "source": [
        "!pip install -qU pdfminer.six"
      ],
      "metadata": {
        "id": "ew_fwwwQpzUc"
      },
      "execution_count": 13,
      "outputs": []
    },
    {
      "cell_type": "code",
      "source": [
        "from langchain_community.document_loaders import PDFMinerLoader\n",
        "\n",
        "file_path = \"/content/data/(제2024-572호)_초광역권_선도기업_선정_및_지원계획.pdf\"\n",
        "\n",
        "loader = PDFMinerLoader(file_path)\n",
        "\n",
        "docs = loader.load()"
      ],
      "metadata": {
        "id": "Pt_MkOIgpq6e"
      },
      "execution_count": 14,
      "outputs": []
    },
    {
      "cell_type": "code",
      "source": [
        "print(docs[0].page_content[:500])"
      ],
      "metadata": {
        "colab": {
          "base_uri": "https://localhost:8080/"
        },
        "id": "6iYO3dJBrsj-",
        "outputId": "4162a62b-8941-4753-93ae-7c857f0e93df"
      },
      "execution_count": 15,
      "outputs": [
        {
          "output_type": "stream",
          "name": "stdout",
          "text": [
            "중소벤처기업부 공고 제2024-572호\n",
            "\n",
            "초광역권  선도기업  선정  및  지원계획\n",
            "\n",
            "2024년도 「초광역권 선도기업」선정 및 지원계획을 다음과 같이 공고\n",
            "\n",
            "하오니, 동 사업에 참여하고자 하는 지역 중소기업의 많은 참여를 바랍\n",
            "\n",
            "니다.\n",
            "\n",
            "2024년  11월  15일\n",
            "\n",
            "중 소 벤 처 기 업 부 장 관\n",
            "\n",
            "  1.  사업개요\n",
            "\n",
            "□  사업목적  : 시·도간 공급망 연결 및 지역주력산업 생태계를 주도할 \n",
            "\n",
            "수 있는 지역 중소기업 발굴 및 육성\n",
            "\n",
            "□  사업내용  :  지역주력산업을 영위하는 중소기업 중 초광역권 선도기업을\n",
            "\n",
            "선정하여 전담PM 매칭 및 기술사업화 관련 바우처 지원\n",
            "\n",
            "< 초광역권  선도기업  선정  및  지원계획  >\n",
            "\n",
            "구분\n",
            "\n",
            "지원대상\n",
            "\n",
            "주요내용\n",
            "\n",
            "초광역권  선도기업\n",
            "\n",
            "유효기간  및  지원기간\n",
            "\n",
            "선정일로부터  2년(’24년  선정  →  ’25년~‘26년)  /  최대2년  지원\n",
            "\n",
            "지원규모  및  한도\n",
            "\n",
            "기업당  최대  2억원(1억원/연간)\n",
            "\n",
            "·  (정책금융)  초광역권  선도기업\n"
          ]
        }
      ]
    },
    {
      "cell_type": "markdown",
      "source": [
        "### 5. PDFPlumber"
      ],
      "metadata": {
        "id": "noqXpPm7stlL"
      }
    },
    {
      "cell_type": "code",
      "source": [
        "!pip install -qU pdfplumber\n",
        "!pip install -qU unstructured\n",
        "!pip install pi_heif==0.20.0\n",
        "!!pip install unstructured[local-inference]"
      ],
      "metadata": {
        "colab": {
          "base_uri": "https://localhost:8080/",
          "height": 1000
        },
        "id": "Pz8v_s6GsvzO",
        "outputId": "3a691174-73c1-4221-a513-c37ac3b9dd2b"
      },
      "execution_count": 25,
      "outputs": [
        {
          "output_type": "stream",
          "name": "stdout",
          "text": [
            "Requirement already satisfied: pi_heif==0.20.0 in /usr/local/lib/python3.10/dist-packages (0.20.0)\n",
            "Requirement already satisfied: pillow>=10.1.0 in /usr/local/lib/python3.10/dist-packages (from pi_heif==0.20.0) (11.0.0)\n"
          ]
        },
        {
          "output_type": "display_data",
          "data": {
            "application/vnd.colab-display-data+json": {
              "pip_warning": {
                "packages": [
                  "google",
                  "pydevd_plugins"
                ]
              },
              "id": "088a6a8a8fc540968e18ace1e2d886a3"
            }
          },
          "metadata": {}
        },
        {
          "output_type": "execute_result",
          "data": {
            "text/plain": [
              "['Requirement already satisfied: unstructured[local-inference] in /usr/local/lib/python3.10/dist-packages (0.16.11)',\n",
              " 'Requirement already satisfied: chardet in /usr/local/lib/python3.10/dist-packages (from unstructured[local-inference]) (5.2.0)',\n",
              " 'Requirement already satisfied: filetype in /usr/local/lib/python3.10/dist-packages (from unstructured[local-inference]) (1.2.0)',\n",
              " 'Requirement already satisfied: python-magic in /usr/local/lib/python3.10/dist-packages (from unstructured[local-inference]) (0.4.27)',\n",
              " 'Requirement already satisfied: lxml in /usr/local/lib/python3.10/dist-packages (from unstructured[local-inference]) (5.3.0)',\n",
              " 'Requirement already satisfied: nltk in /usr/local/lib/python3.10/dist-packages (from unstructured[local-inference]) (3.9.1)',\n",
              " 'Requirement already satisfied: requests in /usr/local/lib/python3.10/dist-packages (from unstructured[local-inference]) (2.32.3)',\n",
              " 'Requirement already satisfied: beautifulsoup4 in /usr/local/lib/python3.10/dist-packages (from unstructured[local-inference]) (4.12.3)',\n",
              " 'Requirement already satisfied: emoji in /usr/local/lib/python3.10/dist-packages (from unstructured[local-inference]) (2.14.0)',\n",
              " 'Requirement already satisfied: dataclasses-json in /usr/local/lib/python3.10/dist-packages (from unstructured[local-inference]) (0.6.7)',\n",
              " 'Requirement already satisfied: python-iso639 in /usr/local/lib/python3.10/dist-packages (from unstructured[local-inference]) (2024.10.22)',\n",
              " 'Requirement already satisfied: langdetect in /usr/local/lib/python3.10/dist-packages (from unstructured[local-inference]) (1.0.9)',\n",
              " 'Requirement already satisfied: numpy<2 in /usr/local/lib/python3.10/dist-packages (from unstructured[local-inference]) (1.26.4)',\n",
              " 'Requirement already satisfied: rapidfuzz in /usr/local/lib/python3.10/dist-packages (from unstructured[local-inference]) (3.11.0)',\n",
              " 'Requirement already satisfied: backoff in /usr/local/lib/python3.10/dist-packages (from unstructured[local-inference]) (2.2.1)',\n",
              " 'Requirement already satisfied: typing-extensions in /usr/local/lib/python3.10/dist-packages (from unstructured[local-inference]) (4.12.2)',\n",
              " 'Requirement already satisfied: unstructured-client in /usr/local/lib/python3.10/dist-packages (from unstructured[local-inference]) (0.28.1)',\n",
              " 'Requirement already satisfied: wrapt in /usr/local/lib/python3.10/dist-packages (from unstructured[local-inference]) (1.17.0)',\n",
              " 'Requirement already satisfied: tqdm in /usr/local/lib/python3.10/dist-packages (from unstructured[local-inference]) (4.67.1)',\n",
              " 'Requirement already satisfied: psutil in /usr/local/lib/python3.10/dist-packages (from unstructured[local-inference]) (5.9.5)',\n",
              " 'Requirement already satisfied: python-oxmsg in /usr/local/lib/python3.10/dist-packages (from unstructured[local-inference]) (0.0.1)',\n",
              " 'Requirement already satisfied: html5lib in /usr/local/lib/python3.10/dist-packages (from unstructured[local-inference]) (1.1)',\n",
              " 'Requirement already satisfied: networkx in /usr/local/lib/python3.10/dist-packages (from unstructured[local-inference]) (3.4.2)',\n",
              " 'Collecting unstructured-inference==0.8.1 (from unstructured[local-inference])',\n",
              " '  Downloading unstructured_inference-0.8.1-py3-none-any.whl.metadata (5.9 kB)',\n",
              " 'Collecting google-cloud-vision (from unstructured[local-inference])',\n",
              " '  Downloading google_cloud_vision-3.9.0-py2.py3-none-any.whl.metadata (5.3 kB)',\n",
              " 'Requirement already satisfied: pi-heif in /usr/local/lib/python3.10/dist-packages (from unstructured[local-inference]) (0.20.0)',\n",
              " 'Collecting python-pptx>=1.0.1 (from unstructured[local-inference])',\n",
              " '  Downloading python_pptx-1.0.2-py3-none-any.whl.metadata (2.5 kB)',\n",
              " 'Collecting pikepdf (from unstructured[local-inference])',\n",
              " '  Downloading pikepdf-9.5.0-cp310-cp310-manylinux_2_17_x86_64.manylinux2014_x86_64.whl.metadata (8.1 kB)',\n",
              " 'Requirement already satisfied: markdown in /usr/local/lib/python3.10/dist-packages (from unstructured[local-inference]) (3.7)',\n",
              " 'Requirement already satisfied: pandas in /usr/local/lib/python3.10/dist-packages (from unstructured[local-inference]) (2.2.2)',\n",
              " 'Requirement already satisfied: pypdf in /usr/local/lib/python3.10/dist-packages (from unstructured[local-inference]) (5.1.0)',\n",
              " 'Requirement already satisfied: openpyxl in /usr/local/lib/python3.10/dist-packages (from unstructured[local-inference]) (3.1.5)',\n",
              " 'Requirement already satisfied: pdfminer.six in /usr/local/lib/python3.10/dist-packages (from unstructured[local-inference]) (20231228)',\n",
              " 'Collecting pdf2image (from unstructured[local-inference])',\n",
              " '  Downloading pdf2image-1.17.0-py3-none-any.whl.metadata (6.2 kB)',\n",
              " 'Collecting effdet (from unstructured[local-inference])',\n",
              " '  Downloading effdet-0.4.1-py3-none-any.whl.metadata (33 kB)',\n",
              " 'Requirement already satisfied: xlrd in /usr/local/lib/python3.10/dist-packages (from unstructured[local-inference]) (2.0.1)',\n",
              " 'Collecting onnx (from unstructured[local-inference])',\n",
              " '  Downloading onnx-1.17.0-cp310-cp310-manylinux_2_17_x86_64.manylinux2014_x86_64.whl.metadata (16 kB)',\n",
              " 'Collecting pypandoc (from unstructured[local-inference])',\n",
              " '  Downloading pypandoc-1.14-py3-none-any.whl.metadata (16 kB)',\n",
              " 'Collecting python-docx>=1.1.2 (from unstructured[local-inference])',\n",
              " '  Downloading python_docx-1.1.2-py3-none-any.whl.metadata (2.0 kB)',\n",
              " 'Collecting unstructured.pytesseract>=0.3.12 (from unstructured[local-inference])',\n",
              " '  Downloading unstructured.pytesseract-0.3.13-py3-none-any.whl.metadata (11 kB)',\n",
              " 'Collecting layoutparser (from unstructured-inference==0.8.1->unstructured[local-inference])',\n",
              " '  Downloading layoutparser-0.3.4-py3-none-any.whl.metadata (7.7 kB)',\n",
              " 'Collecting python-multipart (from unstructured-inference==0.8.1->unstructured[local-inference])',\n",
              " '  Downloading python_multipart-0.0.20-py3-none-any.whl.metadata (1.8 kB)',\n",
              " 'Requirement already satisfied: huggingface-hub in /usr/local/lib/python3.10/dist-packages (from unstructured-inference==0.8.1->unstructured[local-inference]) (0.27.0)',\n",
              " 'Requirement already satisfied: opencv-python!=4.7.0.68 in /usr/local/lib/python3.10/dist-packages (from unstructured-inference==0.8.1->unstructured[local-inference]) (4.10.0.84)',\n",
              " 'Collecting onnxruntime>=1.17.0 (from unstructured-inference==0.8.1->unstructured[local-inference])',\n",
              " '  Downloading onnxruntime-1.20.1-cp310-cp310-manylinux_2_27_x86_64.manylinux_2_28_x86_64.whl.metadata (4.5 kB)',\n",
              " 'Requirement already satisfied: matplotlib in /usr/local/lib/python3.10/dist-packages (from unstructured-inference==0.8.1->unstructured[local-inference]) (3.8.0)',\n",
              " 'Requirement already satisfied: torch in /usr/local/lib/python3.10/dist-packages (from unstructured-inference==0.8.1->unstructured[local-inference]) (2.5.1+cu121)',\n",
              " 'Requirement already satisfied: timm in /usr/local/lib/python3.10/dist-packages (from unstructured-inference==0.8.1->unstructured[local-inference]) (1.0.12)',\n",
              " 'Requirement already satisfied: transformers>=4.25.1 in /usr/local/lib/python3.10/dist-packages (from unstructured-inference==0.8.1->unstructured[local-inference]) (4.47.1)',\n",
              " 'Requirement already satisfied: Pillow>=3.3.2 in /usr/local/lib/python3.10/dist-packages (from python-pptx>=1.0.1->unstructured[local-inference]) (11.0.0)',\n",
              " 'Collecting XlsxWriter>=0.5.7 (from python-pptx>=1.0.1->unstructured[local-inference])',\n",
              " '  Downloading XlsxWriter-3.2.0-py3-none-any.whl.metadata (2.6 kB)',\n",
              " 'Requirement already satisfied: packaging>=21.3 in /usr/local/lib/python3.10/dist-packages (from unstructured.pytesseract>=0.3.12->unstructured[local-inference]) (24.2)',\n",
              " 'Requirement already satisfied: soupsieve>1.2 in /usr/local/lib/python3.10/dist-packages (from beautifulsoup4->unstructured[local-inference]) (2.6)',\n",
              " 'Requirement already satisfied: marshmallow<4.0.0,>=3.18.0 in /usr/local/lib/python3.10/dist-packages (from dataclasses-json->unstructured[local-inference]) (3.23.2)',\n",
              " 'Requirement already satisfied: typing-inspect<1,>=0.4.0 in /usr/local/lib/python3.10/dist-packages (from dataclasses-json->unstructured[local-inference]) (0.9.0)',\n",
              " 'Requirement already satisfied: torchvision in /usr/local/lib/python3.10/dist-packages (from effdet->unstructured[local-inference]) (0.20.1+cu121)',\n",
              " 'Requirement already satisfied: pycocotools>=2.0.2 in /usr/local/lib/python3.10/dist-packages (from effdet->unstructured[local-inference]) (2.0.8)',\n",
              " 'Collecting omegaconf>=2.0 (from effdet->unstructured[local-inference])',\n",
              " '  Downloading omegaconf-2.3.0-py3-none-any.whl.metadata (3.9 kB)',\n",
              " 'Requirement already satisfied: google-api-core!=2.0.*,!=2.1.*,!=2.10.*,!=2.2.*,!=2.3.*,!=2.4.*,!=2.5.*,!=2.6.*,!=2.7.*,!=2.8.*,!=2.9.*,<3.0.0dev,>=1.34.1 in /usr/local/lib/python3.10/dist-packages (from google-api-core[grpc]!=2.0.*,!=2.1.*,!=2.10.*,!=2.2.*,!=2.3.*,!=2.4.*,!=2.5.*,!=2.6.*,!=2.7.*,!=2.8.*,!=2.9.*,<3.0.0dev,>=1.34.1->google-cloud-vision->unstructured[local-inference]) (2.19.2)',\n",
              " 'Requirement already satisfied: google-auth!=2.24.0,!=2.25.0,<3.0.0dev,>=2.14.1 in /usr/local/lib/python3.10/dist-packages (from google-cloud-vision->unstructured[local-inference]) (2.27.0)',\n",
              " 'Requirement already satisfied: proto-plus<2.0.0dev,>=1.22.3 in /usr/local/lib/python3.10/dist-packages (from google-cloud-vision->unstructured[local-inference]) (1.25.0)',\n",
              " 'Requirement already satisfied: protobuf!=4.21.0,!=4.21.1,!=4.21.2,!=4.21.3,!=4.21.4,!=4.21.5,<6.0.0dev,>=3.20.2 in /usr/local/lib/python3.10/dist-packages (from google-cloud-vision->unstructured[local-inference]) (4.25.5)',\n",
              " 'Requirement already satisfied: six>=1.9 in /usr/local/lib/python3.10/dist-packages (from html5lib->unstructured[local-inference]) (1.17.0)',\n",
              " 'Requirement already satisfied: webencodings in /usr/local/lib/python3.10/dist-packages (from html5lib->unstructured[local-inference]) (0.5.1)',\n",
              " 'Requirement already satisfied: click in /usr/local/lib/python3.10/dist-packages (from nltk->unstructured[local-inference]) (8.1.7)',\n",
              " 'Requirement already satisfied: joblib in /usr/local/lib/python3.10/dist-packages (from nltk->unstructured[local-inference]) (1.4.2)',\n",
              " 'Requirement already satisfied: regex>=2021.8.3 in /usr/local/lib/python3.10/dist-packages (from nltk->unstructured[local-inference]) (2024.11.6)',\n",
              " 'Requirement already satisfied: et-xmlfile in /usr/local/lib/python3.10/dist-packages (from openpyxl->unstructured[local-inference]) (2.0.0)',\n",
              " 'Requirement already satisfied: python-dateutil>=2.8.2 in /usr/local/lib/python3.10/dist-packages (from pandas->unstructured[local-inference]) (2.8.2)',\n",
              " 'Requirement already satisfied: pytz>=2020.1 in /usr/local/lib/python3.10/dist-packages (from pandas->unstructured[local-inference]) (2024.2)',\n",
              " 'Requirement already satisfied: tzdata>=2022.7 in /usr/local/lib/python3.10/dist-packages (from pandas->unstructured[local-inference]) (2024.2)',\n",
              " 'Requirement already satisfied: charset-normalizer>=2.0.0 in /usr/local/lib/python3.10/dist-packages (from pdfminer.six->unstructured[local-inference]) (3.4.0)',\n",
              " 'Requirement already satisfied: cryptography>=36.0.0 in /usr/local/lib/python3.10/dist-packages (from pdfminer.six->unstructured[local-inference]) (43.0.3)',\n",
              " 'Requirement already satisfied: Deprecated in /usr/local/lib/python3.10/dist-packages (from pikepdf->unstructured[local-inference]) (1.2.15)',\n",
              " 'Requirement already satisfied: olefile in /usr/local/lib/python3.10/dist-packages (from python-oxmsg->unstructured[local-inference]) (0.47)',\n",
              " 'Requirement already satisfied: idna<4,>=2.5 in /usr/local/lib/python3.10/dist-packages (from requests->unstructured[local-inference]) (3.10)',\n",
              " 'Requirement already satisfied: urllib3<3,>=1.21.1 in /usr/local/lib/python3.10/dist-packages (from requests->unstructured[local-inference]) (2.2.3)',\n",
              " 'Requirement already satisfied: certifi>=2017.4.17 in /usr/local/lib/python3.10/dist-packages (from requests->unstructured[local-inference]) (2024.12.14)',\n",
              " 'Requirement already satisfied: aiofiles>=24.1.0 in /usr/local/lib/python3.10/dist-packages (from unstructured-client->unstructured[local-inference]) (24.1.0)',\n",
              " 'Requirement already satisfied: eval-type-backport<0.3.0,>=0.2.0 in /usr/local/lib/python3.10/dist-packages (from unstructured-client->unstructured[local-inference]) (0.2.0)',\n",
              " 'Requirement already satisfied: httpx>=0.27.0 in /usr/local/lib/python3.10/dist-packages (from unstructured-client->unstructured[local-inference]) (0.28.1)',\n",
              " 'Requirement already satisfied: jsonpath-python<2.0.0,>=1.0.6 in /usr/local/lib/python3.10/dist-packages (from unstructured-client->unstructured[local-inference]) (1.0.6)',\n",
              " 'Requirement already satisfied: nest-asyncio>=1.6.0 in /usr/local/lib/python3.10/dist-packages (from unstructured-client->unstructured[local-inference]) (1.6.0)',\n",
              " 'Requirement already satisfied: pydantic<2.10.0,>=2.9.2 in /usr/local/lib/python3.10/dist-packages (from unstructured-client->unstructured[local-inference]) (2.9.2)',\n",
              " 'Requirement already satisfied: requests-toolbelt>=1.0.0 in /usr/local/lib/python3.10/dist-packages (from unstructured-client->unstructured[local-inference]) (1.0.0)',\n",
              " 'Requirement already satisfied: cffi>=1.12 in /usr/local/lib/python3.10/dist-packages (from cryptography>=36.0.0->pdfminer.six->unstructured[local-inference]) (1.17.1)',\n",
              " 'Requirement already satisfied: googleapis-common-protos<2.0.dev0,>=1.56.2 in /usr/local/lib/python3.10/dist-packages (from google-api-core!=2.0.*,!=2.1.*,!=2.10.*,!=2.2.*,!=2.3.*,!=2.4.*,!=2.5.*,!=2.6.*,!=2.7.*,!=2.8.*,!=2.9.*,<3.0.0dev,>=1.34.1->google-api-core[grpc]!=2.0.*,!=2.1.*,!=2.10.*,!=2.2.*,!=2.3.*,!=2.4.*,!=2.5.*,!=2.6.*,!=2.7.*,!=2.8.*,!=2.9.*,<3.0.0dev,>=1.34.1->google-cloud-vision->unstructured[local-inference]) (1.66.0)',\n",
              " 'Requirement already satisfied: grpcio<2.0dev,>=1.33.2 in /usr/local/lib/python3.10/dist-packages (from google-api-core[grpc]!=2.0.*,!=2.1.*,!=2.10.*,!=2.2.*,!=2.3.*,!=2.4.*,!=2.5.*,!=2.6.*,!=2.7.*,!=2.8.*,!=2.9.*,<3.0.0dev,>=1.34.1->google-cloud-vision->unstructured[local-inference]) (1.68.1)',\n",
              " 'Requirement already satisfied: grpcio-status<2.0.dev0,>=1.33.2 in /usr/local/lib/python3.10/dist-packages (from google-api-core[grpc]!=2.0.*,!=2.1.*,!=2.10.*,!=2.2.*,!=2.3.*,!=2.4.*,!=2.5.*,!=2.6.*,!=2.7.*,!=2.8.*,!=2.9.*,<3.0.0dev,>=1.34.1->google-cloud-vision->unstructured[local-inference]) (1.62.3)',\n",
              " 'Requirement already satisfied: cachetools<6.0,>=2.0.0 in /usr/local/lib/python3.10/dist-packages (from google-auth!=2.24.0,!=2.25.0,<3.0.0dev,>=2.14.1->google-cloud-vision->unstructured[local-inference]) (5.5.0)',\n",
              " 'Requirement already satisfied: pyasn1-modules>=0.2.1 in /usr/local/lib/python3.10/dist-packages (from google-auth!=2.24.0,!=2.25.0,<3.0.0dev,>=2.14.1->google-cloud-vision->unstructured[local-inference]) (0.4.1)',\n",
              " 'Requirement already satisfied: rsa<5,>=3.1.4 in /usr/local/lib/python3.10/dist-packages (from google-auth!=2.24.0,!=2.25.0,<3.0.0dev,>=2.14.1->google-cloud-vision->unstructured[local-inference]) (4.9)',\n",
              " 'Requirement already satisfied: anyio in /usr/local/lib/python3.10/dist-packages (from httpx>=0.27.0->unstructured-client->unstructured[local-inference]) (3.7.1)',\n",
              " 'Requirement already satisfied: httpcore==1.* in /usr/local/lib/python3.10/dist-packages (from httpx>=0.27.0->unstructured-client->unstructured[local-inference]) (1.0.7)',\n",
              " 'Requirement already satisfied: h11<0.15,>=0.13 in /usr/local/lib/python3.10/dist-packages (from httpcore==1.*->httpx>=0.27.0->unstructured-client->unstructured[local-inference]) (0.14.0)',\n",
              " 'Collecting antlr4-python3-runtime==4.9.* (from omegaconf>=2.0->effdet->unstructured[local-inference])',\n",
              " '  Downloading antlr4-python3-runtime-4.9.3.tar.gz (117 kB)',\n",
              " '\\x1b[?25l     \\x1b[90m━━━━━━━━━━━━━━━━━━━━━━━━━━━━━━━━━━━━━━━━\\x1b[0m \\x1b[32m0.0/117.0 kB\\x1b[0m \\x1b[31m?\\x1b[0m eta \\x1b[36m-:--:--\\x1b[0m',\n",
              " '\\x1b[2K     \\x1b[90m━━━━━━━━━━━━━━━━━━━━━━━━━━━━━━━━━━━━━━━━\\x1b[0m \\x1b[32m117.0/117.0 kB\\x1b[0m \\x1b[31m5.1 MB/s\\x1b[0m eta \\x1b[36m0:00:00\\x1b[0m',\n",
              " '\\x1b[?25h  Preparing metadata (setup.py) ... \\x1b[?25l\\x1b[?25hdone',\n",
              " 'Requirement already satisfied: PyYAML>=5.1.0 in /usr/local/lib/python3.10/dist-packages (from omegaconf>=2.0->effdet->unstructured[local-inference]) (6.0.2)',\n",
              " 'Collecting coloredlogs (from onnxruntime>=1.17.0->unstructured-inference==0.8.1->unstructured[local-inference])',\n",
              " '  Downloading coloredlogs-15.0.1-py2.py3-none-any.whl.metadata (12 kB)',\n",
              " 'Requirement already satisfied: flatbuffers in /usr/local/lib/python3.10/dist-packages (from onnxruntime>=1.17.0->unstructured-inference==0.8.1->unstructured[local-inference]) (24.3.25)',\n",
              " 'Requirement already satisfied: sympy in /usr/local/lib/python3.10/dist-packages (from onnxruntime>=1.17.0->unstructured-inference==0.8.1->unstructured[local-inference]) (1.13.1)',\n",
              " 'Requirement already satisfied: contourpy>=1.0.1 in /usr/local/lib/python3.10/dist-packages (from matplotlib->unstructured-inference==0.8.1->unstructured[local-inference]) (1.3.1)',\n",
              " 'Requirement already satisfied: cycler>=0.10 in /usr/local/lib/python3.10/dist-packages (from matplotlib->unstructured-inference==0.8.1->unstructured[local-inference]) (0.12.1)',\n",
              " 'Requirement already satisfied: fonttools>=4.22.0 in /usr/local/lib/python3.10/dist-packages (from matplotlib->unstructured-inference==0.8.1->unstructured[local-inference]) (4.55.3)',\n",
              " 'Requirement already satisfied: kiwisolver>=1.0.1 in /usr/local/lib/python3.10/dist-packages (from matplotlib->unstructured-inference==0.8.1->unstructured[local-inference]) (1.4.7)',\n",
              " 'Requirement already satisfied: pyparsing>=2.3.1 in /usr/local/lib/python3.10/dist-packages (from matplotlib->unstructured-inference==0.8.1->unstructured[local-inference]) (3.2.0)',\n",
              " 'Requirement already satisfied: annotated-types>=0.6.0 in /usr/local/lib/python3.10/dist-packages (from pydantic<2.10.0,>=2.9.2->unstructured-client->unstructured[local-inference]) (0.7.0)',\n",
              " 'Requirement already satisfied: pydantic-core==2.23.4 in /usr/local/lib/python3.10/dist-packages (from pydantic<2.10.0,>=2.9.2->unstructured-client->unstructured[local-inference]) (2.23.4)',\n",
              " 'Requirement already satisfied: safetensors in /usr/local/lib/python3.10/dist-packages (from timm->unstructured-inference==0.8.1->unstructured[local-inference]) (0.4.5)',\n",
              " 'Requirement already satisfied: filelock in /usr/local/lib/python3.10/dist-packages (from torch->unstructured-inference==0.8.1->unstructured[local-inference]) (3.16.1)',\n",
              " 'Requirement already satisfied: jinja2 in /usr/local/lib/python3.10/dist-packages (from torch->unstructured-inference==0.8.1->unstructured[local-inference]) (3.1.4)',\n",
              " 'Requirement already satisfied: fsspec in /usr/local/lib/python3.10/dist-packages (from torch->unstructured-inference==0.8.1->unstructured[local-inference]) (2024.10.0)',\n",
              " 'Requirement already satisfied: mpmath<1.4,>=1.1.0 in /usr/local/lib/python3.10/dist-packages (from sympy->onnxruntime>=1.17.0->unstructured-inference==0.8.1->unstructured[local-inference]) (1.3.0)',\n",
              " 'Requirement already satisfied: tokenizers<0.22,>=0.21 in /usr/local/lib/python3.10/dist-packages (from transformers>=4.25.1->unstructured-inference==0.8.1->unstructured[local-inference]) (0.21.0)',\n",
              " 'Requirement already satisfied: mypy-extensions>=0.3.0 in /usr/local/lib/python3.10/dist-packages (from typing-inspect<1,>=0.4.0->dataclasses-json->unstructured[local-inference]) (1.0.0)',\n",
              " 'Requirement already satisfied: scipy in /usr/local/lib/python3.10/dist-packages (from layoutparser->unstructured-inference==0.8.1->unstructured[local-inference]) (1.13.1)',\n",
              " 'Collecting iopath (from layoutparser->unstructured-inference==0.8.1->unstructured[local-inference])',\n",
              " '  Downloading iopath-0.1.10.tar.gz (42 kB)',\n",
              " '\\x1b[?25l     \\x1b[90m━━━━━━━━━━━━━━━━━━━━━━━━━━━━━━━━━━━━━━━━\\x1b[0m \\x1b[32m0.0/42.2 kB\\x1b[0m \\x1b[31m?\\x1b[0m eta \\x1b[36m-:--:--\\x1b[0m',\n",
              " '\\x1b[2K     \\x1b[90m━━━━━━━━━━━━━━━━━━━━━━━━━━━━━━━━━━━━━━━━\\x1b[0m \\x1b[32m42.2/42.2 kB\\x1b[0m \\x1b[31m2.6 MB/s\\x1b[0m eta \\x1b[36m0:00:00\\x1b[0m',\n",
              " '\\x1b[?25h  Preparing metadata (setup.py) ... \\x1b[?25l\\x1b[?25hdone',\n",
              " 'Requirement already satisfied: pdfplumber in /usr/local/lib/python3.10/dist-packages (from layoutparser->unstructured-inference==0.8.1->unstructured[local-inference]) (0.11.5)',\n",
              " 'Requirement already satisfied: pycparser in /usr/local/lib/python3.10/dist-packages (from cffi>=1.12->cryptography>=36.0.0->pdfminer.six->unstructured[local-inference]) (2.22)',\n",
              " 'Requirement already satisfied: pyasn1<0.7.0,>=0.4.6 in /usr/local/lib/python3.10/dist-packages (from pyasn1-modules>=0.2.1->google-auth!=2.24.0,!=2.25.0,<3.0.0dev,>=2.14.1->google-cloud-vision->unstructured[local-inference]) (0.6.1)',\n",
              " 'Requirement already satisfied: sniffio>=1.1 in /usr/local/lib/python3.10/dist-packages (from anyio->httpx>=0.27.0->unstructured-client->unstructured[local-inference]) (1.3.1)',\n",
              " 'Requirement already satisfied: exceptiongroup in /usr/local/lib/python3.10/dist-packages (from anyio->httpx>=0.27.0->unstructured-client->unstructured[local-inference]) (1.2.2)',\n",
              " 'Collecting humanfriendly>=9.1 (from coloredlogs->onnxruntime>=1.17.0->unstructured-inference==0.8.1->unstructured[local-inference])',\n",
              " '  Downloading humanfriendly-10.0-py2.py3-none-any.whl.metadata (9.2 kB)',\n",
              " 'Collecting portalocker (from iopath->layoutparser->unstructured-inference==0.8.1->unstructured[local-inference])',\n",
              " '  Downloading portalocker-3.1.1-py3-none-any.whl.metadata (8.6 kB)',\n",
              " 'Requirement already satisfied: MarkupSafe>=2.0 in /usr/local/lib/python3.10/dist-packages (from jinja2->torch->unstructured-inference==0.8.1->unstructured[local-inference]) (3.0.2)',\n",
              " 'Requirement already satisfied: pypdfium2>=4.18.0 in /usr/local/lib/python3.10/dist-packages (from pdfplumber->layoutparser->unstructured-inference==0.8.1->unstructured[local-inference]) (4.30.1)',\n",
              " 'Downloading unstructured_inference-0.8.1-py3-none-any.whl (48 kB)',\n",
              " '\\x1b[?25l   \\x1b[90m━━━━━━━━━━━━━━━━━━━━━━━━━━━━━━━━━━━━━━━━\\x1b[0m \\x1b[32m0.0/48.4 kB\\x1b[0m \\x1b[31m?\\x1b[0m eta \\x1b[36m-:--:--\\x1b[0m',\n",
              " '\\x1b[2K   \\x1b[90m━━━━━━━━━━━━━━━━━━━━━━━━━━━━━━━━━━━━━━━━\\x1b[0m \\x1b[32m48.4/48.4 kB\\x1b[0m \\x1b[31m2.9 MB/s\\x1b[0m eta \\x1b[36m0:00:00\\x1b[0m',\n",
              " '\\x1b[?25hDownloading python_docx-1.1.2-py3-none-any.whl (244 kB)',\n",
              " '\\x1b[?25l   \\x1b[90m━━━━━━━━━━━━━━━━━━━━━━━━━━━━━━━━━━━━━━━━\\x1b[0m \\x1b[32m0.0/244.3 kB\\x1b[0m \\x1b[31m?\\x1b[0m eta \\x1b[36m-:--:--\\x1b[0m',\n",
              " '\\x1b[2K   \\x1b[90m━━━━━━━━━━━━━━━━━━━━━━━━━━━━━━━━━━━━━━━━\\x1b[0m \\x1b[32m244.3/244.3 kB\\x1b[0m \\x1b[31m12.0 MB/s\\x1b[0m eta \\x1b[36m0:00:00\\x1b[0m',\n",
              " '\\x1b[?25hDownloading python_pptx-1.0.2-py3-none-any.whl (472 kB)',\n",
              " '\\x1b[?25l   \\x1b[90m━━━━━━━━━━━━━━━━━━━━━━━━━━━━━━━━━━━━━━━━\\x1b[0m \\x1b[32m0.0/472.8 kB\\x1b[0m \\x1b[31m?\\x1b[0m eta \\x1b[36m-:--:--\\x1b[0m',\n",
              " '\\x1b[2K   \\x1b[90m━━━━━━━━━━━━━━━━━━━━━━━━━━━━━━━━━━━━━━━━\\x1b[0m \\x1b[32m472.8/472.8 kB\\x1b[0m \\x1b[31m21.6 MB/s\\x1b[0m eta \\x1b[36m0:00:00\\x1b[0m',\n",
              " '\\x1b[?25hDownloading unstructured.pytesseract-0.3.13-py3-none-any.whl (14 kB)',\n",
              " 'Downloading effdet-0.4.1-py3-none-any.whl (112 kB)',\n",
              " '\\x1b[?25l   \\x1b[90m━━━━━━━━━━━━━━━━━━━━━━━━━━━━━━━━━━━━━━━━\\x1b[0m \\x1b[32m0.0/112.5 kB\\x1b[0m \\x1b[31m?\\x1b[0m eta \\x1b[36m-:--:--\\x1b[0m',\n",
              " '\\x1b[2K   \\x1b[90m━━━━━━━━━━━━━━━━━━━━━━━━━━━━━━━━━━━━━━━━\\x1b[0m \\x1b[32m112.5/112.5 kB\\x1b[0m \\x1b[31m8.1 MB/s\\x1b[0m eta \\x1b[36m0:00:00\\x1b[0m',\n",
              " '\\x1b[?25hDownloading google_cloud_vision-3.9.0-py2.py3-none-any.whl (514 kB)',\n",
              " '\\x1b[?25l   \\x1b[90m━━━━━━━━━━━━━━━━━━━━━━━━━━━━━━━━━━━━━━━━\\x1b[0m \\x1b[32m0.0/514.6 kB\\x1b[0m \\x1b[31m?\\x1b[0m eta \\x1b[36m-:--:--\\x1b[0m',\n",
              " '\\x1b[2K   \\x1b[90m━━━━━━━━━━━━━━━━━━━━━━━━━━━━━━━━━━━━━━━━\\x1b[0m \\x1b[32m514.6/514.6 kB\\x1b[0m \\x1b[31m30.1 MB/s\\x1b[0m eta \\x1b[36m0:00:00\\x1b[0m',\n",
              " '\\x1b[?25hDownloading onnx-1.17.0-cp310-cp310-manylinux_2_17_x86_64.manylinux2014_x86_64.whl (16.0 MB)',\n",
              " '\\x1b[?25l   \\x1b[90m━━━━━━━━━━━━━━━━━━━━━━━━━━━━━━━━━━━━━━━━\\x1b[0m \\x1b[32m0.0/16.0 MB\\x1b[0m \\x1b[31m?\\x1b[0m eta \\x1b[36m-:--:--\\x1b[0m',\n",
              " '\\x1b[2K   \\x1b[91m━━━━━━━━━━\\x1b[0m\\x1b[90m╺\\x1b[0m\\x1b[90m━━━━━━━━━━━━━━━━━━━━━━━━━━━━━\\x1b[0m \\x1b[32m4.1/16.0 MB\\x1b[0m \\x1b[31m123.0 MB/s\\x1b[0m eta \\x1b[36m0:00:01\\x1b[0m',\n",
              " '\\x1b[2K   \\x1b[91m━━━━━━━━━━━━━━━━━━━━━━━━\\x1b[0m\\x1b[90m╺\\x1b[0m\\x1b[90m━━━━━━━━━━━━━━━\\x1b[0m \\x1b[32m9.8/16.0 MB\\x1b[0m \\x1b[31m137.1 MB/s\\x1b[0m eta \\x1b[36m0:00:01\\x1b[0m',\n",
              " '\\x1b[2K   \\x1b[91m━━━━━━━━━━━━━━━━━━━━━━━━━━━━━━━━━━━━━━━\\x1b[0m\\x1b[91m╸\\x1b[0m \\x1b[32m15.9/16.0 MB\\x1b[0m \\x1b[31m159.9 MB/s\\x1b[0m eta \\x1b[36m0:00:01\\x1b[0m',\n",
              " '\\x1b[2K   \\x1b[91m━━━━━━━━━━━━━━━━━━━━━━━━━━━━━━━━━━━━━━━\\x1b[0m\\x1b[91m╸\\x1b[0m \\x1b[32m16.0/16.0 MB\\x1b[0m \\x1b[31m152.2 MB/s\\x1b[0m eta \\x1b[36m0:00:01\\x1b[0m',\n",
              " '\\x1b[2K   \\x1b[91m━━━━━━━━━━━━━━━━━━━━━━━━━━━━━━━━━━━━━━━\\x1b[0m\\x1b[91m╸\\x1b[0m \\x1b[32m16.0/16.0 MB\\x1b[0m \\x1b[31m152.2 MB/s\\x1b[0m eta \\x1b[36m0:00:01\\x1b[0m',\n",
              " '\\x1b[2K   \\x1b[90m━━━━━━━━━━━━━━━━━━━━━━━━━━━━━━━━━━━━━━━━\\x1b[0m \\x1b[32m16.0/16.0 MB\\x1b[0m \\x1b[31m70.7 MB/s\\x1b[0m eta \\x1b[36m0:00:00\\x1b[0m',\n",
              " '\\x1b[?25hDownloading pdf2image-1.17.0-py3-none-any.whl (11 kB)',\n",
              " 'Downloading pikepdf-9.5.0-cp310-cp310-manylinux_2_17_x86_64.manylinux2014_x86_64.whl (2.4 MB)',\n",
              " '\\x1b[?25l   \\x1b[90m━━━━━━━━━━━━━━━━━━━━━━━━━━━━━━━━━━━━━━━━\\x1b[0m \\x1b[32m0.0/2.4 MB\\x1b[0m \\x1b[31m?\\x1b[0m eta \\x1b[36m-:--:--\\x1b[0m',\n",
              " '\\x1b[2K   \\x1b[91m━━━━━━━━━━━━━━━━━━━━━━━━━━━━━━━━━━━━━━━\\x1b[0m\\x1b[91m╸\\x1b[0m \\x1b[32m2.4/2.4 MB\\x1b[0m \\x1b[31m201.5 MB/s\\x1b[0m eta \\x1b[36m0:00:01\\x1b[0m',\n",
              " '\\x1b[2K   \\x1b[90m━━━━━━━━━━━━━━━━━━━━━━━━━━━━━━━━━━━━━━━━\\x1b[0m \\x1b[32m2.4/2.4 MB\\x1b[0m \\x1b[31m64.8 MB/s\\x1b[0m eta \\x1b[36m0:00:00\\x1b[0m',\n",
              " '\\x1b[?25hDownloading pypandoc-1.14-py3-none-any.whl (21 kB)',\n",
              " 'Downloading omegaconf-2.3.0-py3-none-any.whl (79 kB)',\n",
              " '\\x1b[?25l   \\x1b[90m━━━━━━━━━━━━━━━━━━━━━━━━━━━━━━━━━━━━━━━━\\x1b[0m \\x1b[32m0.0/79.5 kB\\x1b[0m \\x1b[31m?\\x1b[0m eta \\x1b[36m-:--:--\\x1b[0m',\n",
              " '\\x1b[2K   \\x1b[90m━━━━━━━━━━━━━━━━━━━━━━━━━━━━━━━━━━━━━━━━\\x1b[0m \\x1b[32m79.5/79.5 kB\\x1b[0m \\x1b[31m5.8 MB/s\\x1b[0m eta \\x1b[36m0:00:00\\x1b[0m',\n",
              " '\\x1b[?25hDownloading onnxruntime-1.20.1-cp310-cp310-manylinux_2_27_x86_64.manylinux_2_28_x86_64.whl (13.3 MB)',\n",
              " '\\x1b[?25l   \\x1b[90m━━━━━━━━━━━━━━━━━━━━━━━━━━━━━━━━━━━━━━━━\\x1b[0m \\x1b[32m0.0/13.3 MB\\x1b[0m \\x1b[31m?\\x1b[0m eta \\x1b[36m-:--:--\\x1b[0m',\n",
              " '\\x1b[2K   \\x1b[91m━━━━━━━━━━━━\\x1b[0m\\x1b[91m╸\\x1b[0m\\x1b[90m━━━━━━━━━━━━━━━━━━━━━━━━━━━\\x1b[0m \\x1b[32m4.2/13.3 MB\\x1b[0m \\x1b[31m127.5 MB/s\\x1b[0m eta \\x1b[36m0:00:01\\x1b[0m',\n",
              " '\\x1b[2K   \\x1b[91m━━━━━━━━━━━━━━━━━━━━━━━━━━━━━━\\x1b[0m\\x1b[90m╺\\x1b[0m\\x1b[90m━━━━━━━━━\\x1b[0m \\x1b[32m10.1/13.3 MB\\x1b[0m \\x1b[31m73.2 MB/s\\x1b[0m eta \\x1b[36m0:00:01\\x1b[0m',\n",
              " '\\x1b[2K   \\x1b[91m━━━━━━━━━━━━━━━━━━━━━━━━━━━━━━━━━━━━━━━\\x1b[0m\\x1b[91m╸\\x1b[0m \\x1b[32m13.3/13.3 MB\\x1b[0m \\x1b[31m74.8 MB/s\\x1b[0m eta \\x1b[36m0:00:01\\x1b[0m',\n",
              " '\\x1b[2K   \\x1b[91m━━━━━━━━━━━━━━━━━━━━━━━━━━━━━━━━━━━━━━━\\x1b[0m\\x1b[91m╸\\x1b[0m \\x1b[32m13.3/13.3 MB\\x1b[0m \\x1b[31m74.8 MB/s\\x1b[0m eta \\x1b[36m0:00:01\\x1b[0m',\n",
              " '\\x1b[2K   \\x1b[90m━━━━━━━━━━━━━━━━━━━━━━━━━━━━━━━━━━━━━━━━\\x1b[0m \\x1b[32m13.3/13.3 MB\\x1b[0m \\x1b[31m48.7 MB/s\\x1b[0m eta \\x1b[36m0:00:00\\x1b[0m',\n",
              " '\\x1b[?25hDownloading XlsxWriter-3.2.0-py3-none-any.whl (159 kB)',\n",
              " '\\x1b[?25l   \\x1b[90m━━━━━━━━━━━━━━━━━━━━━━━━━━━━━━━━━━━━━━━━\\x1b[0m \\x1b[32m0.0/159.9 kB\\x1b[0m \\x1b[31m?\\x1b[0m eta \\x1b[36m-:--:--\\x1b[0m',\n",
              " '\\x1b[2K   \\x1b[90m━━━━━━━━━━━━━━━━━━━━━━━━━━━━━━━━━━━━━━━━\\x1b[0m \\x1b[32m159.9/159.9 kB\\x1b[0m \\x1b[31m11.4 MB/s\\x1b[0m eta \\x1b[36m0:00:00\\x1b[0m',\n",
              " '\\x1b[?25hDownloading layoutparser-0.3.4-py3-none-any.whl (19.2 MB)',\n",
              " '\\x1b[?25l   \\x1b[90m━━━━━━━━━━━━━━━━━━━━━━━━━━━━━━━━━━━━━━━━\\x1b[0m \\x1b[32m0.0/19.2 MB\\x1b[0m \\x1b[31m?\\x1b[0m eta \\x1b[36m-:--:--\\x1b[0m',\n",
              " '\\x1b[2K   \\x1b[91m━━━━━━━━━\\x1b[0m\\x1b[91m╸\\x1b[0m\\x1b[90m━━━━━━━━━━━━━━━━━━━━━━━━━━━━━━\\x1b[0m \\x1b[32m4.6/19.2 MB\\x1b[0m \\x1b[31m138.3 MB/s\\x1b[0m eta \\x1b[36m0:00:01\\x1b[0m',\n",
              " '\\x1b[2K   \\x1b[91m━━━━━━━━━━━━━━━━━━\\x1b[0m\\x1b[91m╸\\x1b[0m\\x1b[90m━━━━━━━━━━━━━━━━━━━━━\\x1b[0m \\x1b[32m8.9/19.2 MB\\x1b[0m \\x1b[31m128.7 MB/s\\x1b[0m eta \\x1b[36m0:00:01\\x1b[0m',\n",
              " '\\x1b[2K   \\x1b[91m━━━━━━━━━━━━━━━━━━━━━━━━━\\x1b[0m\\x1b[91m╸\\x1b[0m\\x1b[90m━━━━━━━━━━━━━━\\x1b[0m \\x1b[32m12.3/19.2 MB\\x1b[0m \\x1b[31m113.5 MB/s\\x1b[0m eta \\x1b[36m0:00:01\\x1b[0m',\n",
              " '\\x1b[2K   \\x1b[91m━━━━━━━━━━━━━━━━━━━━━━━━━━━━━━━\\x1b[0m\\x1b[91m╸\\x1b[0m\\x1b[90m━━━━━━━━\\x1b[0m \\x1b[32m15.3/19.2 MB\\x1b[0m \\x1b[31m98.8 MB/s\\x1b[0m eta \\x1b[36m0:00:01\\x1b[0m',\n",
              " '\\x1b[2K   \\x1b[91m━━━━━━━━━━━━━━━━━━━━━━━━━━━━━━━━━━━━━━\\x1b[0m\\x1b[90m╺\\x1b[0m\\x1b[90m━\\x1b[0m \\x1b[32m18.4/19.2 MB\\x1b[0m \\x1b[31m88.0 MB/s\\x1b[0m eta \\x1b[36m0:00:01\\x1b[0m',\n",
              " '\\x1b[2K   \\x1b[91m━━━━━━━━━━━━━━━━━━━━━━━━━━━━━━━━━━━━━━━\\x1b[0m\\x1b[91m╸\\x1b[0m \\x1b[32m19.2/19.2 MB\\x1b[0m \\x1b[31m88.3 MB/s\\x1b[0m eta \\x1b[36m0:00:01\\x1b[0m',\n",
              " '\\x1b[2K   \\x1b[91m━━━━━━━━━━━━━━━━━━━━━━━━━━━━━━━━━━━━━━━\\x1b[0m\\x1b[91m╸\\x1b[0m \\x1b[32m19.2/19.2 MB\\x1b[0m \\x1b[31m88.3 MB/s\\x1b[0m eta \\x1b[36m0:00:01\\x1b[0m',\n",
              " '\\x1b[2K   \\x1b[91m━━━━━━━━━━━━━━━━━━━━━━━━━━━━━━━━━━━━━━━\\x1b[0m\\x1b[91m╸\\x1b[0m \\x1b[32m19.2/19.2 MB\\x1b[0m \\x1b[31m88.3 MB/s\\x1b[0m eta \\x1b[36m0:00:01\\x1b[0m',\n",
              " '\\x1b[2K   \\x1b[90m━━━━━━━━━━━━━━━━━━━━━━━━━━━━━━━━━━━━━━━━\\x1b[0m \\x1b[32m19.2/19.2 MB\\x1b[0m \\x1b[31m44.1 MB/s\\x1b[0m eta \\x1b[36m0:00:00\\x1b[0m',\n",
              " '\\x1b[?25hDownloading python_multipart-0.0.20-py3-none-any.whl (24 kB)',\n",
              " 'Downloading coloredlogs-15.0.1-py2.py3-none-any.whl (46 kB)',\n",
              " '\\x1b[?25l   \\x1b[90m━━━━━━━━━━━━━━━━━━━━━━━━━━━━━━━━━━━━━━━━\\x1b[0m \\x1b[32m0.0/46.0 kB\\x1b[0m \\x1b[31m?\\x1b[0m eta \\x1b[36m-:--:--\\x1b[0m',\n",
              " '\\x1b[2K   \\x1b[90m━━━━━━━━━━━━━━━━━━━━━━━━━━━━━━━━━━━━━━━━\\x1b[0m \\x1b[32m46.0/46.0 kB\\x1b[0m \\x1b[31m2.8 MB/s\\x1b[0m eta \\x1b[36m0:00:00\\x1b[0m',\n",
              " '\\x1b[?25hDownloading humanfriendly-10.0-py2.py3-none-any.whl (86 kB)',\n",
              " '\\x1b[?25l   \\x1b[90m━━━━━━━━━━━━━━━━━━━━━━━━━━━━━━━━━━━━━━━━\\x1b[0m \\x1b[32m0.0/86.8 kB\\x1b[0m \\x1b[31m?\\x1b[0m eta \\x1b[36m-:--:--\\x1b[0m',\n",
              " '\\x1b[2K   \\x1b[90m━━━━━━━━━━━━━━━━━━━━━━━━━━━━━━━━━━━━━━━━\\x1b[0m \\x1b[32m86.8/86.8 kB\\x1b[0m \\x1b[31m5.9 MB/s\\x1b[0m eta \\x1b[36m0:00:00\\x1b[0m',\n",
              " '\\x1b[?25hDownloading portalocker-3.1.1-py3-none-any.whl (19 kB)',\n",
              " 'Building wheels for collected packages: antlr4-python3-runtime, iopath',\n",
              " '  Building wheel for antlr4-python3-runtime (setup.py) ... \\x1b[?25l\\x1b[?25hdone',\n",
              " '  Created wheel for antlr4-python3-runtime: filename=antlr4_python3_runtime-4.9.3-py3-none-any.whl size=144555 sha256=6c8ac126b36891d55dab177baf4d091548d1b4763bb47b0840d058f75b596485',\n",
              " '  Stored in directory: /root/.cache/pip/wheels/12/93/dd/1f6a127edc45659556564c5730f6d4e300888f4bca2d4c5a88',\n",
              " '  Building wheel for iopath (setup.py) ... \\x1b[?25l\\x1b[?25hdone',\n",
              " '  Created wheel for iopath: filename=iopath-0.1.10-py3-none-any.whl size=31528 sha256=f5bb02a8128672bd408b48ff52e7e98712bd1af0c44d85ee1bb595e82038d474',\n",
              " '  Stored in directory: /root/.cache/pip/wheels/9a/a3/b6/ac0fcd1b4ed5cfeb3db92e6a0e476cfd48ed0df92b91080c1d',\n",
              " 'Successfully built antlr4-python3-runtime iopath',\n",
              " 'Installing collected packages: antlr4-python3-runtime, XlsxWriter, unstructured.pytesseract, python-multipart, python-docx, pypandoc, portalocker, pdf2image, onnx, omegaconf, humanfriendly, python-pptx, pikepdf, iopath, coloredlogs, onnxruntime, layoutparser, google-cloud-vision, effdet, unstructured-inference',\n",
              " 'Successfully installed XlsxWriter-3.2.0 antlr4-python3-runtime-4.9.3 coloredlogs-15.0.1 effdet-0.4.1 google-cloud-vision-3.9.0 humanfriendly-10.0 iopath-0.1.10 layoutparser-0.3.4 omegaconf-2.3.0 onnx-1.17.0 onnxruntime-1.20.1 pdf2image-1.17.0 pikepdf-9.5.0 portalocker-3.1.1 pypandoc-1.14 python-docx-1.1.2 python-multipart-0.0.20 python-pptx-1.0.2 unstructured-inference-0.8.1 unstructured.pytesseract-0.3.13']"
            ]
          },
          "metadata": {},
          "execution_count": 25
        }
      ]
    },
    {
      "cell_type": "code",
      "source": [
        "from langchain.document_loaders import UnstructuredPDFLoader\n",
        "\n",
        "file_path = \"/content/data/(제2024-572호)_초광역권_선도기업_선정_및_지원계획.pdf\"\n",
        "\n",
        "loader = UnstructuredPDFLoader(file_path)\n",
        "\n",
        "docs = loader.load()"
      ],
      "metadata": {
        "id": "_BF3_axqs60v"
      },
      "execution_count": 1,
      "outputs": []
    },
    {
      "cell_type": "code",
      "source": [
        "print(docs[0].page_content[:500])"
      ],
      "metadata": {
        "colab": {
          "base_uri": "https://localhost:8080/"
        },
        "id": "sJ_xCYyewMPC",
        "outputId": "30f774d0-2439-498e-dee2-87e1b76245f2"
      },
      "execution_count": 3,
      "outputs": [
        {
          "output_type": "stream",
          "name": "stdout",
          "text": [
            "중소벤처기업부 공고 제2024-572호\n",
            "\n",
            "초광역권 선도기업 선정 및 지원계획\n",
            "\n",
            "2024년도 「초광역권 선도기업」선정 및 지원계획을 다음과 같이 공고\n",
            "\n",
            "하오니, 동 사업에 참여하고자 하는 지역 중소기업의 많은 참여를 바랍\n",
            "\n",
            "니다.\n",
            "\n",
            "2024년 11월 15일\n",
            "\n",
            "중 소 벤 처 기 업 부 장 관\n",
            "\n",
            "1. 사업개요\n",
            "\n",
            "□ 사업목적 : 시·도간 공급망 연결 및 지역주력산업 생태계를 주도할\n",
            "\n",
            "수 있는 지역 중소기업 발굴 및 육성\n",
            "\n",
            "□ 사업내용 : 지역주력산업을 영위하는 중소기업 중 초광역권 선도기업을\n",
            "\n",
            "선정하여 전담PM 매칭 및 기술사업화 관련 바우처 지원\n",
            "\n",
            "< 초광역권 선도기업 선정 및 지원계획 >\n",
            "\n",
            "구분\n",
            "\n",
            "주요내용\n",
            "\n",
            "지원대상\n",
            "\n",
            "초광역권 선도기업\n",
            "\n",
            "유효기간 및 지원기간\n",
            "\n",
            "선정일로부터 2년(’24년 선정 → ’25년~‘26년) / 최대2년 지원\n",
            "\n",
            "지원규모 및 한도\n",
            "\n",
            "기업당 최대 2억원(1억원/연간)\n",
            "\n",
            "(정책금융) 초광역권 선도기업 전용 기술보증 프로그램 지원 및\n",
            "\n",
            "정책금융 연계지원 프로그램\n",
            "\n",
            "(기술\n"
          ]
        }
      ]
    },
    {
      "cell_type": "markdown",
      "source": [
        "## 비교"
      ],
      "metadata": {
        "id": "_X43lwLz1mFx"
      }
    },
    {
      "cell_type": "code",
      "source": [
        "import time\n",
        "from langchain.document_loaders import PyPDFLoader, PyMuPDFLoader, UnstructuredPDFLoader\n",
        "from langchain_community.document_loaders import PyPDFium2Loader, PDFMinerLoader\n",
        "\n",
        "# 파일 경로 설정\n",
        "file_path = \"/content/data/(제2024-572호)_초광역권_선도기업_선정_및_지원계획.pdf\"  # 실제 PDF 파일 경로로 변경\n",
        "\n",
        "# 결과 저장용 리스트\n",
        "results = []\n",
        "\n",
        "# PyPDF\n",
        "start_time = time.time()\n",
        "try:\n",
        "    loader = PyPDFLoader(file_path)\n",
        "    docs = loader.load()\n",
        "    pypdf_content = docs[0].page_content\n",
        "    pypdf_time = time.time() - start_time\n",
        "    results.append((\"PyPDF\", len(pypdf_content), pypdf_time))\n",
        "except Exception as e:\n",
        "    results.append((\"PyPDF\", \"Error\", str(e)))\n",
        "\n",
        "# PyMuPDF\n",
        "start_time = time.time()\n",
        "try:\n",
        "    loader = PyMuPDFLoader(file_path)\n",
        "    docs = loader.load()\n",
        "    pymupdf_content = docs[0].page_content\n",
        "    pymupdf_time = time.time() - start_time\n",
        "    results.append((\"PyMuPDF\", len(pymupdf_content), pymupdf_time))\n",
        "except Exception as e:\n",
        "    results.append((\"PyMuPDF\", \"Error\", str(e)))\n",
        "\n",
        "# PyPDFium2\n",
        "start_time = time.time()\n",
        "try:\n",
        "    loader = PyPDFium2Loader(file_path)\n",
        "    docs = loader.load()\n",
        "    pypdfium2_content = docs[0].page_content\n",
        "    pypdfium2_time = time.time() - start_time\n",
        "    results.append((\"PyPDFium2\", len(pypdfium2_content), pypdfium2_time))\n",
        "except Exception as e:\n",
        "    results.append((\"PyPDFium2\", \"Error\", str(e)))\n",
        "\n",
        "# PDFMiner\n",
        "start_time = time.time()\n",
        "try:\n",
        "    loader = PDFMinerLoader(file_path)\n",
        "    docs = loader.load()\n",
        "    pdfminer_content = docs[0].page_content\n",
        "    pdfminer_time = time.time() - start_time\n",
        "    results.append((\"PDFMiner\", len(pdfminer_content), pdfminer_time))\n",
        "except Exception as e:\n",
        "    results.append((\"PDFMiner\", \"Error\", str(e)))\n",
        "\n",
        "# PDFPlumber\n",
        "start_time = time.time()\n",
        "try:\n",
        "    loader = UnstructuredPDFLoader(file_path)\n",
        "    docs = loader.load()\n",
        "    pdfplumber_content = docs[0].page_content\n",
        "    pdfplumber_time = time.time() - start_time\n",
        "    results.append((\"PDFPlumber\", len(pdfplumber_content), pdfplumber_time))\n",
        "except Exception as e:\n",
        "    results.append((\"PDFPlumber\", \"Error\", str(e)))\n",
        "\n",
        "# 결과 출력\n",
        "print(\"라이브러리 비교 결과\")\n",
        "print(f\"{'Library':<12} {'Content Length':<15} {'Time Taken (s)':<10}\")\n",
        "for result in results:\n",
        "    library, content_length, time_taken = result\n",
        "    print(f\"{library:<12} {content_length:<15} {time_taken:<10}\")\n"
      ],
      "metadata": {
        "colab": {
          "base_uri": "https://localhost:8080/"
        },
        "id": "HUZE2E5a1nYE",
        "outputId": "1005219a-b826-44be-c4fa-415442658bc7"
      },
      "execution_count": 4,
      "outputs": [
        {
          "output_type": "stream",
          "name": "stderr",
          "text": [
            "/usr/local/lib/python3.10/dist-packages/pypdfium2/_helpers/textpage.py:80: UserWarning: get_text_range() call with default params will be implicitly redirected to get_text_bounded()\n",
            "  warnings.warn(\"get_text_range() call with default params will be implicitly redirected to get_text_bounded()\")\n"
          ]
        },
        {
          "output_type": "stream",
          "name": "stdout",
          "text": [
            "라이브러리 비교 결과\n",
            "Library      Content Length  Time Taken (s)\n",
            "PyPDF        644             1.6355233192443848\n",
            "PyMuPDF      675             0.42093610763549805\n",
            "PyPDFium2    705             0.11084270477294922\n",
            "PDFMiner     7079            2.04931378364563\n",
            "PDFPlumber   6115            2.228839874267578\n"
          ]
        }
      ]
    }
  ]
}