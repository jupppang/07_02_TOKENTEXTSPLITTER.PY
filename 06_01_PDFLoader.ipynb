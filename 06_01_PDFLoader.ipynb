{
  "nbformat": 4,
  "nbformat_minor": 0,
  "metadata": {
    "colab": {
      "provenance": [],
      "mount_file_id": "1Ywt7vBAJ0vQYKUbxLE3S6bhUbtqXs9Of",
      "authorship_tag": "ABX9TyMkWkU0GwlerGCVCz8QwvQ5",
      "include_colab_link": true
    },
    "kernelspec": {
      "name": "python3",
      "display_name": "Python 3"
    },
    "language_info": {
      "name": "python"
    }
  },
  "cells": [
    {
      "cell_type": "markdown",
      "metadata": {
        "id": "view-in-github",
        "colab_type": "text"
      },
      "source": [
        "<a href=\"https://colab.research.google.com/github/jupppang/edu_jeonju_test/blob/main/06_01_PDFLoader.ipynb\" target=\"_parent\"><img src=\"https://colab.research.google.com/assets/colab-badge.svg\" alt=\"Open In Colab\"/></a>"
      ]
    },
    {
      "cell_type": "markdown",
      "source": [
        "## PDF Loader"
      ],
      "metadata": {
        "id": "FbprbNZ3tz1E"
      }
    },
    {
      "cell_type": "code",
      "execution_count": 1,
      "metadata": {
        "id": "uQspvj0JtuZo"
      },
      "outputs": [],
      "source": [
        "FILE_PATH=\"/content/data/SPRI_AI_Brief_2023년12월호_F.pdf\""
      ]
    },
    {
      "cell_type": "code",
      "source": [
        "def show_metadata(docs):\n",
        "    if docs:\n",
        "        print(\"[metadata]\")\n",
        "        print(list(docs[0].metadata.keys()))\n",
        "        print(\"\\n[examples]\")\n",
        "        max_key_length = max(len(k) for k in docs[0].metadata.keys())\n",
        "        for k, v in docs[0].metadata.items():\n",
        "            print(f\"{k:<{max_key_length}} : {v}\")\n"
      ],
      "metadata": {
        "id": "8quXDgbwv70X"
      },
      "execution_count": 2,
      "outputs": []
    },
    {
      "cell_type": "markdown",
      "source": [
        "##1.PyPDF"
      ],
      "metadata": {
        "id": "3NSLOYe3xuQ3"
      }
    },
    {
      "cell_type": "code",
      "source": [
        "!pip install -qU PyPDF\n",
        "!pip install -qU langchain_community"
      ],
      "metadata": {
        "colab": {
          "base_uri": "https://localhost:8080/"
        },
        "id": "sUa3LNwSxzzw",
        "outputId": "b5a061a2-10cd-4b70-86db-7858c3297bd3"
      },
      "execution_count": 5,
      "outputs": [
        {
          "output_type": "stream",
          "name": "stdout",
          "text": [
            "\u001b[2K   \u001b[90m━━━━━━━━━━━━━━━━━━━━━━━━━━━━━━━━━━━━━━━━\u001b[0m \u001b[32m2.5/2.5 MB\u001b[0m \u001b[31m27.7 MB/s\u001b[0m eta \u001b[36m0:00:00\u001b[0m\n",
            "\u001b[2K   \u001b[90m━━━━━━━━━━━━━━━━━━━━━━━━━━━━━━━━━━━━━━━━\u001b[0m \u001b[32m1.0/1.0 MB\u001b[0m \u001b[31m32.3 MB/s\u001b[0m eta \u001b[36m0:00:00\u001b[0m\n",
            "\u001b[2K   \u001b[90m━━━━━━━━━━━━━━━━━━━━━━━━━━━━━━━━━━━━━━━━\u001b[0m \u001b[32m411.6/411.6 kB\u001b[0m \u001b[31m20.8 MB/s\u001b[0m eta \u001b[36m0:00:00\u001b[0m\n",
            "\u001b[2K   \u001b[90m━━━━━━━━━━━━━━━━━━━━━━━━━━━━━━━━━━━━━━━━\u001b[0m \u001b[32m49.3/49.3 kB\u001b[0m \u001b[31m3.2 MB/s\u001b[0m eta \u001b[36m0:00:00\u001b[0m\n",
            "\u001b[?25h"
          ]
        }
      ]
    },
    {
      "cell_type": "code",
      "source": [
        "from langchain_community.document_loaders import PyPDFLoader\n",
        "\n",
        "# 파일 경로 설정\n",
        "loader = PyPDFLoader(FILE_PATH)\n",
        "\n",
        "# PDF 로더 초기화\n",
        "docs = loader.load()"
      ],
      "metadata": {
        "id": "GrkTdQUVxDM9"
      },
      "execution_count": 6,
      "outputs": []
    },
    {
      "cell_type": "code",
      "source": [
        "print(docs[20].page_content)"
      ],
      "metadata": {
        "colab": {
          "base_uri": "https://localhost:8080/"
        },
        "id": "0GJwJlz3zPjR",
        "outputId": "bfc0da9b-7536-4525-c827-26ab79140ac0"
      },
      "execution_count": 8,
      "outputs": [
        {
          "output_type": "stream",
          "name": "stdout",
          "text": [
            "18\n",
            "영국 옥스퍼드 인터넷 연구소, AI 기술자의 임금이 평균 21% 높아n옥스퍼드 인터넷 연구소의 연구에 따르면 특정 기술의 경제적 가치는 다른 기술과 결합 가능성이 높을수록 높게 평가됨 nAI의 확산은 기술의 경제적 가치에 크게 영향을 미치며, AI 기술을 가진 근로자는 평균 21%, 최대 40% 높은 임금을 받을 수 있음  \n",
            "KEY Contents\n",
            "£AI 기술 중 머신러닝, 텐서플로우, 딥러닝의 임금 프리미엄이 높게 평가n옥스퍼드 인터넷 연구소(Oxford Internet Institute)가 2023년 10월 24일 962개 기술과 2만 5천 명을 대상으로 한 연구에서 AI를 포함한 주요 기술의 경제적 가치를 분석한 결과를 발표 ∙연구에 따르면 한 기술의 경제적 가치는 근로자의 여타 역량과 얼마나 잘 결합하는지를 보여주는 ‘상보성(complementarity)’에 따라 결정됨∙특정 기술은 다른 기술과 결합 가능성이 높을수록 경제적 가치가 높아지며, 일례로 데이터 분석과 같은 기술은 여타 고부가가치 기술과 결합할 수 있어 가치가 높지만, 사진 리터칭 같은 기술은 특정 기술과만 결합할 수 있어 가치가 낮게 평가됨 ∙대부분 직업은 여러 기술의 조합이 필요하며, 근로자의 재교육에서 경제적 효율성을 높이려면 기존 기술과 신기술 간 상보성을 극대화할 필요nAI의 확산은 기술의 경제적 가치에 크게 영향을 미치는 요소로, AI 기술을 가진 근로자는 평균적으로 21% 높은 임금을 획득 가능∙AI 기술 중 근로자에 대한 경제적 가치(시간당 임금 증가율 기준) 측면에서 상위 5개 기술은 머신러닝(+40%), 텐서플로우(+38%), 딥러닝(+27%), 자연어처리(+19%), 데이터 과학(+17%) 순\n",
            "☞  출 처  : Oxford Internet Institute, AI com es out on top: Oxford Study identifies the econom ic value of specific skills, 2023.10.24.\n",
            "<AI 기술 유형 평균 기술 대비 갖는 임금 프리미엄>\n"
          ]
        }
      ]
    },
    {
      "cell_type": "code",
      "source": [
        "# 메타데이터 출력\n",
        "show_metadata(docs)\n"
      ],
      "metadata": {
        "id": "f6NBiP7TzWz6"
      },
      "execution_count": null,
      "outputs": []
    },
    {
      "cell_type": "markdown",
      "source": [
        "## 1.2 Pymupdf"
      ],
      "metadata": {
        "id": "SxDSFHbVzXfD"
      }
    },
    {
      "cell_type": "code",
      "source": [
        "!pip install -qU pymupdf"
      ],
      "metadata": {
        "colab": {
          "base_uri": "https://localhost:8080/"
        },
        "id": "yI7rb1gXzd7y",
        "outputId": "c8165790-6ad4-4bf1-8eb8-a18ae90235f7"
      },
      "execution_count": 9,
      "outputs": [
        {
          "output_type": "stream",
          "name": "stdout",
          "text": [
            "\u001b[2K   \u001b[90m━━━━━━━━━━━━━━━━━━━━━━━━━━━━━━━━━━━━━━━━\u001b[0m \u001b[32m20.0/20.0 MB\u001b[0m \u001b[31m66.5 MB/s\u001b[0m eta \u001b[36m0:00:00\u001b[0m\n",
            "\u001b[?25h"
          ]
        }
      ]
    },
    {
      "cell_type": "code",
      "source": [
        "from langchain_community.document_loaders import PyMuPDFLoader\n",
        "\n",
        "# PyMuPDF 로더 인스턴스 생성\n",
        "loader = PyMuPDFLoader(FILE_PATH)\n",
        "\n",
        "# 문서 로드\n",
        "docs = loader.load()"
      ],
      "metadata": {
        "id": "D-54-Nu1zjjd"
      },
      "execution_count": 11,
      "outputs": []
    },
    {
      "cell_type": "code",
      "source": [
        "# 문서의 내용 출력\n",
        "print(docs[10].page_content[:300])"
      ],
      "metadata": {
        "colab": {
          "base_uri": "https://localhost:8080/"
        },
        "id": "hns5OC7lznLm",
        "outputId": "a5384dc1-82b9-4a25-b6be-3af43b28546e"
      },
      "execution_count": 12,
      "outputs": [
        {
          "output_type": "stream",
          "name": "stdout",
          "text": [
            "SPRi AI Brief |  \n",
            "2023-12월호\n",
            "8\n",
            "코히어, 데이터 투명성 확보를 위한 데이터 출처 탐색기 공개\n",
            "n 코히어와 12개 기관이  광범위한 데이터셋에 대한 감사를 통해 원본 데이터 출처, 재라이선스 상태, \n",
            "작성자 등 다양한 정보를 제공하는 ‘데이터 출처 탐색기’ 플랫폼을 출시\n",
            "n 대화형 플랫폼을 통해 개발자는 데이터셋의 라이선스 상태를 쉽게 파악할 수 있으며 데이터셋의 \n",
            "구성과 계보도 추적 가능\n",
            "KEY Contents\n",
            "£ 데이터 출처 탐색기, 광범위한 데이터셋 정보 제공을 통해 데이터 투명성 향상\n",
            "n AI 기업 코히어\n"
          ]
        }
      ]
    },
    {
      "cell_type": "code",
      "source": [
        "show_metadata(docs)"
      ],
      "metadata": {
        "colab": {
          "base_uri": "https://localhost:8080/"
        },
        "id": "on0ybZpp0M4M",
        "outputId": "01a02435-efd3-43bf-be31-03a7ec3f1718"
      },
      "execution_count": 13,
      "outputs": [
        {
          "output_type": "stream",
          "name": "stdout",
          "text": [
            "[metadata]\n",
            "['source', 'file_path', 'page', 'total_pages', 'format', 'title', 'author', 'subject', 'keywords', 'creator', 'producer', 'creationDate', 'modDate', 'trapped']\n",
            "\n",
            "[examples]\n",
            "source       : /content/data/SPRI_AI_Brief_2023년12월호_F.pdf\n",
            "file_path    : /content/data/SPRI_AI_Brief_2023년12월호_F.pdf\n",
            "page         : 0\n",
            "total_pages  : 23\n",
            "format       : PDF 1.4\n",
            "title        : \n",
            "author       : dj\n",
            "subject      : \n",
            "keywords     : \n",
            "creator      : Hwp 2018 10.0.0.13462\n",
            "producer     : Hancom PDF 1.3.0.542\n",
            "creationDate : D:20231208132838+09'00'\n",
            "modDate      : D:20231208132838+09'00'\n",
            "trapped      : \n"
          ]
        }
      ]
    },
    {
      "cell_type": "markdown",
      "source": [
        "### 3 .PyPDFium2"
      ],
      "metadata": {
        "id": "kAcKxg_20qhR"
      }
    },
    {
      "cell_type": "code",
      "source": [
        "!pip install -qU PyPDFium2"
      ],
      "metadata": {
        "colab": {
          "base_uri": "https://localhost:8080/"
        },
        "id": "L0HtnrDX00Ix",
        "outputId": "2bdc3280-4a76-427b-c766-885bd1866cef"
      },
      "execution_count": 14,
      "outputs": [
        {
          "output_type": "stream",
          "name": "stdout",
          "text": [
            "\u001b[2K     \u001b[90m━━━━━━━━━━━━━━━━━━━━━━━━━━━━━━━━━━━━━━━━\u001b[0m \u001b[32m48.2/48.2 kB\u001b[0m \u001b[31m1.8 MB/s\u001b[0m eta \u001b[36m0:00:00\u001b[0m\n",
            "\u001b[2K   \u001b[90m━━━━━━━━━━━━━━━━━━━━━━━━━━━━━━━━━━━━━━━━\u001b[0m \u001b[32m2.9/2.9 MB\u001b[0m \u001b[31m32.6 MB/s\u001b[0m eta \u001b[36m0:00:00\u001b[0m\n",
            "\u001b[?25h"
          ]
        }
      ]
    },
    {
      "cell_type": "code",
      "source": [
        "from langchain_community.document_loaders import PyPDFium2Loader\n",
        "\n",
        "# PyPDFium2 로더 인스턴스 생성\n",
        "loader = PyPDFium2Loader(FILE_PATH)\n",
        "\n",
        "# 데이터 로드\n",
        "docs = loader.load()"
      ],
      "metadata": {
        "colab": {
          "base_uri": "https://localhost:8080/"
        },
        "id": "EYQuPpDD0uOQ",
        "outputId": "a2cd82b8-3f4b-4a43-9bac-b8b2556baad0"
      },
      "execution_count": 15,
      "outputs": [
        {
          "output_type": "stream",
          "name": "stderr",
          "text": [
            "/usr/local/lib/python3.10/dist-packages/pypdfium2/_helpers/textpage.py:80: UserWarning: get_text_range() call with default params will be implicitly redirected to get_text_bounded()\n",
            "  warnings.warn(\"get_text_range() call with default params will be implicitly redirected to get_text_bounded()\")\n"
          ]
        }
      ]
    },
    {
      "cell_type": "code",
      "source": [
        "# 문서의 내용 출력\n",
        "print(docs[10].page_content[:300])"
      ],
      "metadata": {
        "colab": {
          "base_uri": "https://localhost:8080/"
        },
        "id": "0CWTWdFS0y62",
        "outputId": "c10c8891-32f3-466d-8338-6aa73fb6f27e"
      },
      "execution_count": 16,
      "outputs": [
        {
          "output_type": "stream",
          "name": "stdout",
          "text": [
            "SPRi AI Brief | \r\n",
            "2023-12월호\r\n",
            "8\r\n",
            "코히어, 데이터 투명성 확보를 위한 데이터 출처 탐색기 공개\r\n",
            "n 코히어와 12개 기관이 광범위한 데이터셋에 대한 감사를 통해 원본 데이터 출처, 재라이선스 상태, 작성자 등 다양한 정보를 제공하는 ‘데이터 출처 탐색기’ 플랫폼을 출시\r\n",
            "n 대화형 플랫폼을 통해 개발자는 데이터셋의 라이선스 상태를 쉽게 파악할 수 있으며 데이터셋의 \r\n",
            "구성과 계보도 추적 가능\r\n",
            "KEY Contents\r\n",
            "£ 데이터 출처 탐색기, 광범위한 데이터셋 정보 제공을 통해 데이터 투명성 향상\r\n",
            "n AI \n"
          ]
        }
      ]
    },
    {
      "cell_type": "code",
      "source": [
        "show_metadata(docs)"
      ],
      "metadata": {
        "colab": {
          "base_uri": "https://localhost:8080/"
        },
        "id": "8tKEDfCI1Agv",
        "outputId": "9cfd5ab1-2013-4644-ca17-c49cf1fbbeaa"
      },
      "execution_count": 17,
      "outputs": [
        {
          "output_type": "stream",
          "name": "stdout",
          "text": [
            "[metadata]\n",
            "['source', 'page']\n",
            "\n",
            "[examples]\n",
            "source : /content/data/SPRI_AI_Brief_2023년12월호_F.pdf\n",
            "page   : 0\n"
          ]
        }
      ]
    }
  ]
}