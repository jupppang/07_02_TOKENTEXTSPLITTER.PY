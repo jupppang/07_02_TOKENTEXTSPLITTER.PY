{
  "nbformat": 4,
  "nbformat_minor": 0,
  "metadata": {
    "colab": {
      "provenance": [],
      "authorship_tag": "ABX9TyNK0zhCpCL5HyoLm0CA8xuy",
      "include_colab_link": true
    },
    "kernelspec": {
      "name": "python3",
      "display_name": "Python 3"
    },
    "language_info": {
      "name": "python"
    }
  },
  "cells": [
    {
      "cell_type": "markdown",
      "metadata": {
        "id": "view-in-github",
        "colab_type": "text"
      },
      "source": [
        "<a href=\"https://colab.research.google.com/github/jupppang/edu_jeonju_test/blob/main/CSVLOADER_BOSTONHOUSING_RESULT_HWP.ipynb\" target=\"_parent\"><img src=\"https://colab.research.google.com/assets/colab-badge.svg\" alt=\"Open In Colab\"/></a>"
      ]
    },
    {
      "cell_type": "code",
      "execution_count": 3,
      "metadata": {
        "id": "q3_9IJyIBIAZ"
      },
      "outputs": [],
      "source": [
        "from sklearn.datasets import fetch_california_housing\n",
        "import pandas as pd\n",
        "\n",
        "# 데이터 로드\n",
        "california = fetch_california_housing(as_frame=True)\n",
        "california_data = pd.DataFrame(california.data, columns=california.feature_names)\n",
        "california_data['PRICE'] = california.target"
      ]
    },
    {
      "cell_type": "code",
      "source": [
        "# 데이터 확인\n",
        "print(california_data.head())"
      ],
      "metadata": {
        "colab": {
          "base_uri": "https://localhost:8080/"
        },
        "id": "0OX_R9R2CbUk",
        "outputId": "09ed53d8-7efa-463b-cb58-c6c0c5322d2c"
      },
      "execution_count": 4,
      "outputs": [
        {
          "output_type": "stream",
          "name": "stdout",
          "text": [
            "   MedInc  HouseAge  AveRooms  AveBedrms  Population  AveOccup  Latitude  \\\n",
            "0  8.3252      41.0  6.984127   1.023810       322.0  2.555556     37.88   \n",
            "1  8.3014      21.0  6.238137   0.971880      2401.0  2.109842     37.86   \n",
            "2  7.2574      52.0  8.288136   1.073446       496.0  2.802260     37.85   \n",
            "3  5.6431      52.0  5.817352   1.073059       558.0  2.547945     37.85   \n",
            "4  3.8462      52.0  6.281853   1.081081       565.0  2.181467     37.85   \n",
            "\n",
            "   Longitude  PRICE  \n",
            "0    -122.23  4.526  \n",
            "1    -122.22  3.585  \n",
            "2    -122.24  3.521  \n",
            "3    -122.25  3.413  \n",
            "4    -122.25  3.422  \n"
          ]
        }
      ]
    },
    {
      "cell_type": "code",
      "source": [
        "import xml.etree.ElementTree as ET\n",
        "\n",
        "# UNSTRUCTURED 형식으로 변환\n",
        "unstructured_data = california_data.to_dict(orient='records')\n",
        "\n",
        "# XML 형식으로 변환\n",
        "root = ET.Element(\"CaliforniaHousing\")\n",
        "\n",
        "for record in unstructured_data[:10]:\n",
        "    house = ET.SubElement(root, \"House\")\n",
        "    for key, value in record.items():\n",
        "        child = ET.SubElement(house, key)\n",
        "        child.text = str(value)\n",
        "\n",
        "# XML 파일로 저장\n",
        "tree = ET.ElementTree(root)\n",
        "tree.write(\"california_housing.xml\", encoding='utf-8', xml_declaration=True)"
      ],
      "metadata": {
        "id": "1mJQG-wHCdBx"
      },
      "execution_count": 7,
      "outputs": []
    },
    {
      "cell_type": "code",
      "source": [
        "import statsmodels.api as sm\n",
        "\n",
        "# 독립 변수 및 종속 변수 설정\n",
        "X = california_data[california.feature_names]\n",
        "y = california_data['PRICE']\n",
        "\n",
        "# 상수 추가\n",
        "X = sm.add_constant(X)\n",
        "\n",
        "# 회귀 분석 모델 생성\n",
        "model = sm.OLS(y, X).fit()\n",
        "print(model.summary())\n",
        "\n",
        "# 상위 3가지 요소 추출\n",
        "coefficients = model.params.sort_values(ascending=False)\n",
        "top_3_factors = coefficients.iloc[1:4]  # 'const' 제외하고 상위 3개\n",
        "print(\"상위 3가지 요인:\")\n",
        "print(top_3_factors)"
      ],
      "metadata": {
        "colab": {
          "base_uri": "https://localhost:8080/"
        },
        "id": "6dtdnPDxC5Md",
        "outputId": "29b22b40-3feb-433a-ed67-2b5eff2f8e81"
      },
      "execution_count": 9,
      "outputs": [
        {
          "output_type": "stream",
          "name": "stdout",
          "text": [
            "                            OLS Regression Results                            \n",
            "==============================================================================\n",
            "Dep. Variable:                  PRICE   R-squared:                       0.606\n",
            "Model:                            OLS   Adj. R-squared:                  0.606\n",
            "Method:                 Least Squares   F-statistic:                     3970.\n",
            "Date:                Mon, 06 Jan 2025   Prob (F-statistic):               0.00\n",
            "Time:                        05:36:43   Log-Likelihood:                -22624.\n",
            "No. Observations:               20640   AIC:                         4.527e+04\n",
            "Df Residuals:                   20631   BIC:                         4.534e+04\n",
            "Df Model:                           8                                         \n",
            "Covariance Type:            nonrobust                                         \n",
            "==============================================================================\n",
            "                 coef    std err          t      P>|t|      [0.025      0.975]\n",
            "------------------------------------------------------------------------------\n",
            "const        -36.9419      0.659    -56.067      0.000     -38.233     -35.650\n",
            "MedInc         0.4367      0.004    104.054      0.000       0.428       0.445\n",
            "HouseAge       0.0094      0.000     21.143      0.000       0.009       0.010\n",
            "AveRooms      -0.1073      0.006    -18.235      0.000      -0.119      -0.096\n",
            "AveBedrms      0.6451      0.028     22.928      0.000       0.590       0.700\n",
            "Population -3.976e-06   4.75e-06     -0.837      0.402   -1.33e-05    5.33e-06\n",
            "AveOccup      -0.0038      0.000     -7.769      0.000      -0.005      -0.003\n",
            "Latitude      -0.4213      0.007    -58.541      0.000      -0.435      -0.407\n",
            "Longitude     -0.4345      0.008    -57.682      0.000      -0.449      -0.420\n",
            "==============================================================================\n",
            "Omnibus:                     4393.650   Durbin-Watson:                   0.885\n",
            "Prob(Omnibus):                  0.000   Jarque-Bera (JB):            14087.596\n",
            "Skew:                           1.082   Prob(JB):                         0.00\n",
            "Kurtosis:                       6.420   Cond. No.                     2.38e+05\n",
            "==============================================================================\n",
            "\n",
            "Notes:\n",
            "[1] Standard Errors assume that the covariance matrix of the errors is correctly specified.\n",
            "[2] The condition number is large, 2.38e+05. This might indicate that there are\n",
            "strong multicollinearity or other numerical problems.\n",
            "상위 3가지 요인:\n",
            "MedInc        0.436693\n",
            "HouseAge      0.009436\n",
            "Population   -0.000004\n",
            "dtype: float64\n"
          ]
        }
      ]
    }
  ]
}